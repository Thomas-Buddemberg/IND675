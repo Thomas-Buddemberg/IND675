{
 "cells": [
  {
   "cell_type": "markdown",
   "id": "7b920482",
   "metadata": {
    "toc": true
   },
   "source": [
    "<h1>Table of Contents<span class=\"tocSkip\"></span></h1>\n",
    "<div class=\"toc\"><ul class=\"toc-item\"><li><span><a href=\"#Ayudantía-2:-Ayuda-Tarea-1\" data-toc-modified-id=\"Ayudantía-2:-Ayuda-Tarea-1-1\"><span class=\"toc-item-num\">1&nbsp;&nbsp;</span>Ayudantía 2: Ayuda Tarea 1</a></span><ul class=\"toc-item\"><li><span><a href=\"#Abrir-archivo-Pickle\" data-toc-modified-id=\"Abrir-archivo-Pickle-1.1\"><span class=\"toc-item-num\">1.1&nbsp;&nbsp;</span>Abrir archivo Pickle</a></span></li></ul></li><li><span><a href=\"#Ejemplo-ayudantía\" data-toc-modified-id=\"Ejemplo-ayudantía-2\"><span class=\"toc-item-num\">2&nbsp;&nbsp;</span>Ejemplo ayudantía</a></span><ul class=\"toc-item\"><li><span><a href=\"#Pregunta-Analisis-Exploratorio:-Explore-la-relación-entre-las-distinas-variables.\" data-toc-modified-id=\"Pregunta-Analisis-Exploratorio:-Explore-la-relación-entre-las-distinas-variables.-2.1\"><span class=\"toc-item-num\">2.1&nbsp;&nbsp;</span>Pregunta Analisis Exploratorio: Explore la relación entre las distinas variables.</a></span><ul class=\"toc-item\"><li><span><a href=\"#Resumen-distribuciones\" data-toc-modified-id=\"Resumen-distribuciones-2.1.1\"><span class=\"toc-item-num\">2.1.1&nbsp;&nbsp;</span>Resumen distribuciones</a></span></li><li><span><a href=\"#¿Cual-es-la-distribución-de-size,-total_bill-y-tip?\" data-toc-modified-id=\"¿Cual-es-la-distribución-de-size,-total_bill-y-tip?-2.1.2\"><span class=\"toc-item-num\">2.1.2&nbsp;&nbsp;</span>¿Cual es la distribución de size, total_bill y tip?</a></span></li><li><span><a href=\"#Respuesta:\" data-toc-modified-id=\"Respuesta:-2.1.3\"><span class=\"toc-item-num\">2.1.3&nbsp;&nbsp;</span>Respuesta:</a></span></li><li><span><a href=\"#Respuesta\" data-toc-modified-id=\"Respuesta-2.1.4\"><span class=\"toc-item-num\">2.1.4&nbsp;&nbsp;</span>Respuesta</a></span></li><li><span><a href=\"#Respuesta:\" data-toc-modified-id=\"Respuesta:-2.1.5\"><span class=\"toc-item-num\">2.1.5&nbsp;&nbsp;</span>Respuesta:</a></span></li><li><span><a href=\"#¿Cual-es-la-relación-entre-total_bill-y-tip?\" data-toc-modified-id=\"¿Cual-es-la-relación-entre-total_bill-y-tip?-2.1.6\"><span class=\"toc-item-num\">2.1.6&nbsp;&nbsp;</span>¿Cual es la relación entre total_bill y tip?</a></span></li></ul></li><li><span><a href=\"#ATE\" data-toc-modified-id=\"ATE-2.2\"><span class=\"toc-item-num\">2.2&nbsp;&nbsp;</span>ATE</a></span><ul class=\"toc-item\"><li><span><a href=\"#ATE-usando-un-test-de-medias-no-paramétrico\" data-toc-modified-id=\"ATE-usando-un-test-de-medias-no-paramétrico-2.2.1\"><span class=\"toc-item-num\">2.2.1&nbsp;&nbsp;</span>ATE usando un test de medias no-paramétrico</a></span></li><li><span><a href=\"#Respuesta:\" data-toc-modified-id=\"Respuesta:-2.2.2\"><span class=\"toc-item-num\">2.2.2&nbsp;&nbsp;</span>Respuesta:</a></span></li><li><span><a href=\"#ATE-usando-un-test-de-medias-paramétrico\" data-toc-modified-id=\"ATE-usando-un-test-de-medias-paramétrico-2.2.3\"><span class=\"toc-item-num\">2.2.3&nbsp;&nbsp;</span>ATE usando un test de medias paramétrico</a></span></li><li><span><a href=\"#ATE-usando-un-Modelo-Lineal\" data-toc-modified-id=\"ATE-usando-un-Modelo-Lineal-2.2.4\"><span class=\"toc-item-num\">2.2.4&nbsp;&nbsp;</span>ATE usando un Modelo Lineal</a></span></li></ul></li></ul></li></ul></div>"
   ]
  },
  {
   "cell_type": "markdown",
   "id": "67c61b70",
   "metadata": {},
   "source": [
    "# Ayudantía 2: Ayuda Tarea 1\n",
    "\n",
    "**Ayudante: Thomas Buddemberg**\n",
    "\n",
    "**Mail: tbuddemberg@alumnos.uai.cl**\n",
    "\n",
    "**Whatsapp: +569 7532 8800**"
   ]
  },
  {
   "cell_type": "code",
   "execution_count": 1,
   "id": "9844648c",
   "metadata": {
    "ExecuteTime": {
     "end_time": "2023-04-13T01:31:03.162851Z",
     "start_time": "2023-04-13T01:31:00.652186Z"
    }
   },
   "outputs": [],
   "source": [
    "import pandas as pd\n",
    "import numpy as np\n",
    "import scipy.stats as stats\n",
    "import random as r\n",
    "import warnings\n",
    "warnings.filterwarnings('ignore')\n",
    "import statsmodels.formula.api as smf\n",
    "import statsmodels as sm\n",
    "import seaborn as sns\n",
    "import matplotlib.pyplot as plt\n",
    "from matplotlib import rcParams\n",
    "from joblib import Parallel, delayed\n",
    "from pylab import *\n",
    "from IPython.display import Image\n",
    "import matplotlib.ticker as mtick\n",
    "style.use(\"fivethirtyeight\")"
   ]
  },
  {
   "cell_type": "code",
   "execution_count": 2,
   "id": "45b30f3f",
   "metadata": {
    "ExecuteTime": {
     "end_time": "2023-04-13T01:31:03.301822Z",
     "start_time": "2023-04-13T01:31:03.164800Z"
    }
   },
   "outputs": [],
   "source": [
    "%load_ext autoreload\n",
    "%autoreload 2"
   ]
  },
  {
   "cell_type": "markdown",
   "id": "f7d4fc80",
   "metadata": {},
   "source": [
    "## Abrir archivo Pickle"
   ]
  },
  {
   "cell_type": "code",
   "execution_count": 3,
   "id": "e15ff68a",
   "metadata": {
    "ExecuteTime": {
     "end_time": "2023-04-13T01:31:03.440584Z",
     "start_time": "2023-04-13T01:31:03.303822Z"
    }
   },
   "outputs": [
    {
     "data": {
      "text/html": [
       "<div>\n",
       "<style scoped>\n",
       "    .dataframe tbody tr th:only-of-type {\n",
       "        vertical-align: middle;\n",
       "    }\n",
       "\n",
       "    .dataframe tbody tr th {\n",
       "        vertical-align: top;\n",
       "    }\n",
       "\n",
       "    .dataframe thead th {\n",
       "        text-align: right;\n",
       "    }\n",
       "</style>\n",
       "<table border=\"1\" class=\"dataframe\">\n",
       "  <thead>\n",
       "    <tr style=\"text-align: right;\">\n",
       "      <th></th>\n",
       "      <th>horas_matematica</th>\n",
       "      <th>horas_historia</th>\n",
       "      <th>intervencion</th>\n",
       "      <th>clase_year</th>\n",
       "      <th>tamaño_clase</th>\n",
       "      <th>puntaje_mate</th>\n",
       "      <th>puntaje_hist</th>\n",
       "    </tr>\n",
       "  </thead>\n",
       "  <tbody>\n",
       "    <tr>\n",
       "      <th>0</th>\n",
       "      <td>4</td>\n",
       "      <td>6</td>\n",
       "      <td>0</td>\n",
       "      <td>3</td>\n",
       "      <td>24</td>\n",
       "      <td>12.810392</td>\n",
       "      <td>10.141668</td>\n",
       "    </tr>\n",
       "    <tr>\n",
       "      <th>1</th>\n",
       "      <td>7</td>\n",
       "      <td>7</td>\n",
       "      <td>0</td>\n",
       "      <td>3</td>\n",
       "      <td>22</td>\n",
       "      <td>13.962549</td>\n",
       "      <td>9.611459</td>\n",
       "    </tr>\n",
       "    <tr>\n",
       "      <th>2</th>\n",
       "      <td>3</td>\n",
       "      <td>5</td>\n",
       "      <td>0</td>\n",
       "      <td>3</td>\n",
       "      <td>15</td>\n",
       "      <td>5.378780</td>\n",
       "      <td>5.504501</td>\n",
       "    </tr>\n",
       "    <tr>\n",
       "      <th>3</th>\n",
       "      <td>6</td>\n",
       "      <td>13</td>\n",
       "      <td>1</td>\n",
       "      <td>3</td>\n",
       "      <td>11</td>\n",
       "      <td>14.452577</td>\n",
       "      <td>14.306032</td>\n",
       "    </tr>\n",
       "    <tr>\n",
       "      <th>4</th>\n",
       "      <td>11</td>\n",
       "      <td>8</td>\n",
       "      <td>0</td>\n",
       "      <td>3</td>\n",
       "      <td>12</td>\n",
       "      <td>14.440891</td>\n",
       "      <td>7.157979</td>\n",
       "    </tr>\n",
       "    <tr>\n",
       "      <th>...</th>\n",
       "      <td>...</td>\n",
       "      <td>...</td>\n",
       "      <td>...</td>\n",
       "      <td>...</td>\n",
       "      <td>...</td>\n",
       "      <td>...</td>\n",
       "      <td>...</td>\n",
       "    </tr>\n",
       "    <tr>\n",
       "      <th>19995</th>\n",
       "      <td>10</td>\n",
       "      <td>3</td>\n",
       "      <td>0</td>\n",
       "      <td>3</td>\n",
       "      <td>25</td>\n",
       "      <td>15.254034</td>\n",
       "      <td>9.392976</td>\n",
       "    </tr>\n",
       "    <tr>\n",
       "      <th>19996</th>\n",
       "      <td>2</td>\n",
       "      <td>5</td>\n",
       "      <td>0</td>\n",
       "      <td>3</td>\n",
       "      <td>36</td>\n",
       "      <td>11.850135</td>\n",
       "      <td>13.721666</td>\n",
       "    </tr>\n",
       "    <tr>\n",
       "      <th>19997</th>\n",
       "      <td>2</td>\n",
       "      <td>5</td>\n",
       "      <td>1</td>\n",
       "      <td>1</td>\n",
       "      <td>19</td>\n",
       "      <td>13.410677</td>\n",
       "      <td>16.454393</td>\n",
       "    </tr>\n",
       "    <tr>\n",
       "      <th>19998</th>\n",
       "      <td>10</td>\n",
       "      <td>5</td>\n",
       "      <td>1</td>\n",
       "      <td>2</td>\n",
       "      <td>7</td>\n",
       "      <td>18.285744</td>\n",
       "      <td>12.962711</td>\n",
       "    </tr>\n",
       "    <tr>\n",
       "      <th>19999</th>\n",
       "      <td>6</td>\n",
       "      <td>14</td>\n",
       "      <td>1</td>\n",
       "      <td>3</td>\n",
       "      <td>18</td>\n",
       "      <td>16.186842</td>\n",
       "      <td>15.345419</td>\n",
       "    </tr>\n",
       "  </tbody>\n",
       "</table>\n",
       "<p>20000 rows × 7 columns</p>\n",
       "</div>"
      ],
      "text/plain": [
       "       horas_matematica  horas_historia  intervencion  clase_year  \\\n",
       "0                     4               6             0           3   \n",
       "1                     7               7             0           3   \n",
       "2                     3               5             0           3   \n",
       "3                     6              13             1           3   \n",
       "4                    11               8             0           3   \n",
       "...                 ...             ...           ...         ...   \n",
       "19995                10               3             0           3   \n",
       "19996                 2               5             0           3   \n",
       "19997                 2               5             1           1   \n",
       "19998                10               5             1           2   \n",
       "19999                 6              14             1           3   \n",
       "\n",
       "       tamaño_clase  puntaje_mate  puntaje_hist  \n",
       "0                24     12.810392     10.141668  \n",
       "1                22     13.962549      9.611459  \n",
       "2                15      5.378780      5.504501  \n",
       "3                11     14.452577     14.306032  \n",
       "4                12     14.440891      7.157979  \n",
       "...             ...           ...           ...  \n",
       "19995            25     15.254034      9.392976  \n",
       "19996            36     11.850135     13.721666  \n",
       "19997            19     13.410677     16.454393  \n",
       "19998             7     18.285744     12.962711  \n",
       "19999            18     16.186842     15.345419  \n",
       "\n",
       "[20000 rows x 7 columns]"
      ]
     },
     "execution_count": 3,
     "metadata": {},
     "output_type": "execute_result"
    }
   ],
   "source": [
    "df = pd.read_pickle(\"C:/Users/budde/1-2022/1-Ayudantías/EAMC_2023-1/Tareas/Tarea 1/Tarea1Data.pkl\")\n",
    "df"
   ]
  },
  {
   "cell_type": "markdown",
   "id": "ff4a7280",
   "metadata": {},
   "source": [
    "# Ejemplo ayudantía\n",
    "\n",
    "## Pregunta Analisis Exploratorio: Explore la relación entre las distinas variables.\n",
    "\n",
    "\n",
    "1. ¿Cual es la distribución de `total_bill` y `tip`?\n",
    "\n",
    "2. ¿Cual es la relación entre `total_bill` y `tip`?"
   ]
  },
  {
   "cell_type": "markdown",
   "id": "521e21a8",
   "metadata": {},
   "source": [
    "### Resumen distribuciones\n",
    "\n",
    "<img src=https://relopezbriega.github.io/images/distribution.png>"
   ]
  },
  {
   "cell_type": "code",
   "execution_count": 4,
   "id": "296794e5",
   "metadata": {
    "ExecuteTime": {
     "end_time": "2023-04-13T01:31:03.595332Z",
     "start_time": "2023-04-13T01:31:03.443543Z"
    }
   },
   "outputs": [
    {
     "data": {
      "text/html": [
       "<div>\n",
       "<style scoped>\n",
       "    .dataframe tbody tr th:only-of-type {\n",
       "        vertical-align: middle;\n",
       "    }\n",
       "\n",
       "    .dataframe tbody tr th {\n",
       "        vertical-align: top;\n",
       "    }\n",
       "\n",
       "    .dataframe thead th {\n",
       "        text-align: right;\n",
       "    }\n",
       "</style>\n",
       "<table border=\"1\" class=\"dataframe\">\n",
       "  <thead>\n",
       "    <tr style=\"text-align: right;\">\n",
       "      <th></th>\n",
       "      <th>total_bill</th>\n",
       "      <th>tip</th>\n",
       "      <th>sex</th>\n",
       "      <th>smoker</th>\n",
       "      <th>day</th>\n",
       "      <th>time</th>\n",
       "      <th>size</th>\n",
       "    </tr>\n",
       "  </thead>\n",
       "  <tbody>\n",
       "    <tr>\n",
       "      <th>0</th>\n",
       "      <td>16.99000</td>\n",
       "      <td>1.01000</td>\n",
       "      <td>Female</td>\n",
       "      <td>No</td>\n",
       "      <td>Sun</td>\n",
       "      <td>Dinner</td>\n",
       "      <td>2</td>\n",
       "    </tr>\n",
       "    <tr>\n",
       "      <th>1</th>\n",
       "      <td>10.34000</td>\n",
       "      <td>1.66000</td>\n",
       "      <td>Male</td>\n",
       "      <td>No</td>\n",
       "      <td>Sun</td>\n",
       "      <td>Dinner</td>\n",
       "      <td>3</td>\n",
       "    </tr>\n",
       "    <tr>\n",
       "      <th>2</th>\n",
       "      <td>21.01000</td>\n",
       "      <td>3.50000</td>\n",
       "      <td>Male</td>\n",
       "      <td>No</td>\n",
       "      <td>Sun</td>\n",
       "      <td>Dinner</td>\n",
       "      <td>3</td>\n",
       "    </tr>\n",
       "    <tr>\n",
       "      <th>3</th>\n",
       "      <td>23.68000</td>\n",
       "      <td>3.31000</td>\n",
       "      <td>Male</td>\n",
       "      <td>No</td>\n",
       "      <td>Sun</td>\n",
       "      <td>Dinner</td>\n",
       "      <td>2</td>\n",
       "    </tr>\n",
       "    <tr>\n",
       "      <th>4</th>\n",
       "      <td>24.59000</td>\n",
       "      <td>3.61000</td>\n",
       "      <td>Female</td>\n",
       "      <td>No</td>\n",
       "      <td>Sun</td>\n",
       "      <td>Dinner</td>\n",
       "      <td>4</td>\n",
       "    </tr>\n",
       "  </tbody>\n",
       "</table>\n",
       "</div>"
      ],
      "text/plain": [
       "   total_bill     tip     sex smoker  day    time  size\n",
       "0    16.99000 1.01000  Female     No  Sun  Dinner     2\n",
       "1    10.34000 1.66000    Male     No  Sun  Dinner     3\n",
       "2    21.01000 3.50000    Male     No  Sun  Dinner     3\n",
       "3    23.68000 3.31000    Male     No  Sun  Dinner     2\n",
       "4    24.59000 3.61000  Female     No  Sun  Dinner     4"
      ]
     },
     "execution_count": 4,
     "metadata": {},
     "output_type": "execute_result"
    }
   ],
   "source": [
    "pd.set_option('display.max_columns', None)\n",
    "pd.set_option('display.max_rows', 10)\n",
    "pd.set_option('display.float_format', lambda x: '%.5f' % x)\n",
    "\n",
    "# Cargar datos\n",
    "df = sns.load_dataset('tips')\n",
    "df.head()"
   ]
  },
  {
   "cell_type": "code",
   "execution_count": 5,
   "id": "8ec44ea0",
   "metadata": {
    "ExecuteTime": {
     "end_time": "2023-04-13T01:31:03.751218Z",
     "start_time": "2023-04-13T01:31:03.598354Z"
    }
   },
   "outputs": [
    {
     "name": "stdout",
     "output_type": "stream",
     "text": [
      "############## Shape ##############\n",
      "(244, 7)\n",
      "\n",
      "############## Types ##############\n",
      "total_bill     float64\n",
      "tip            float64\n",
      "sex           category\n",
      "smoker        category\n",
      "day           category\n",
      "time          category\n",
      "size             int64\n",
      "dtype: object\n",
      "\n",
      "############## Head ##############\n",
      "   total_bill     tip     sex smoker  day    time  size\n",
      "0    16.99000 1.01000  Female     No  Sun  Dinner     2\n",
      "1    10.34000 1.66000    Male     No  Sun  Dinner     3\n",
      "2    21.01000 3.50000    Male     No  Sun  Dinner     3\n",
      "3    23.68000 3.31000    Male     No  Sun  Dinner     2\n",
      "4    24.59000 3.61000  Female     No  Sun  Dinner     4\n",
      "\n",
      "############## Tail ##############\n",
      "     total_bill     tip     sex smoker   day    time  size\n",
      "239    29.03000 5.92000    Male     No   Sat  Dinner     3\n",
      "240    27.18000 2.00000  Female    Yes   Sat  Dinner     2\n",
      "241    22.67000 2.00000    Male    Yes   Sat  Dinner     2\n",
      "242    17.82000 1.75000    Male     No   Sat  Dinner     2\n",
      "243    18.78000 3.00000  Female     No  Thur  Dinner     2\n",
      "\n",
      "############## NA ##############\n",
      "total_bill    0\n",
      "tip           0\n",
      "sex           0\n",
      "smoker        0\n",
      "day           0\n",
      "time          0\n",
      "size          0\n",
      "dtype: int64\n",
      "\n",
      "############## Quantiles ##############\n",
      "               count     mean     std     min      0%      5%      50%  \\\n",
      "total_bill 244.00000 19.78594 8.90241 3.07000 3.07000 9.55750 17.79500   \n",
      "tip        244.00000  2.99828 1.38364 1.00000 1.00000 1.44000  2.90000   \n",
      "size       244.00000  2.56967 0.95110 1.00000 1.00000 2.00000  2.00000   \n",
      "\n",
      "                95%      99%     100%      max  \n",
      "total_bill 38.06100 48.22700 50.81000 50.81000  \n",
      "tip         5.19550  7.21450 10.00000 10.00000  \n",
      "size        4.00000  6.00000  6.00000  6.00000  \n"
     ]
    }
   ],
   "source": [
    "def check_df(df, head = 5):\n",
    "    print(\"############## Shape ##############\")\n",
    "    print(df.shape)\n",
    "    print(\"\\n############## Types ##############\")\n",
    "    print(df.dtypes)\n",
    "    print(\"\\n############## Head ##############\")\n",
    "    print(df.head(head))\n",
    "    print(\"\\n############## Tail ##############\")\n",
    "    print(df.tail(head))\n",
    "    print(\"\\n############## NA ##############\")\n",
    "    print(df.isnull().sum())\n",
    "    print(\"\\n############## Quantiles ##############\")\n",
    "    print(df.describe([0, 0.05, 0.50, 0.95, 0.99, 1]).T)\n",
    "\n",
    "check_df(df)"
   ]
  },
  {
   "cell_type": "markdown",
   "id": "2043b1ff",
   "metadata": {},
   "source": [
    "### ¿Cual es la distribución de size, total_bill y tip?"
   ]
  },
  {
   "cell_type": "code",
   "execution_count": 6,
   "id": "0aa442bb",
   "metadata": {
    "ExecuteTime": {
     "end_time": "2023-04-13T01:31:04.697791Z",
     "start_time": "2023-04-13T01:31:03.753133Z"
    }
   },
   "outputs": [
    {
     "data": {
      "text/plain": [
       "<matplotlib.lines.Line2D at 0x265922c4ee0>"
      ]
     },
     "execution_count": 6,
     "metadata": {},
     "output_type": "execute_result"
    },
    {
     "data": {
      "image/png": "[encoded data removed]",
      "text/plain": [
       "<Figure size 432x288 with 1 Axes>"
      ]
     },
     "metadata": {},
     "output_type": "display_data"
    }
   ],
   "source": [
    "sns.distplot(df['size'])\n",
    "plt.axvline(np.mean(df['size']), color ='red')"
   ]
  },
  {
   "cell_type": "markdown",
   "id": "fc88ce09",
   "metadata": {},
   "source": [
    "### Respuesta:\n",
    "\n",
    "La distribución es `Poisson`, ya que es una variable discreta. \n",
    "\n",
    "En esta distribución, la frecuencia de los valores comienza siendo alta para valores pequeños y luego disminuye a medida que los valores aumentan. Esto se debe a que la probabilidad de obtener un número de eventos cada vez mayor se vuelve cada vez más baja."
   ]
  },
  {
   "cell_type": "code",
   "execution_count": 7,
   "id": "5852a1b4",
   "metadata": {
    "ExecuteTime": {
     "end_time": "2023-04-13T01:31:04.993626Z",
     "start_time": "2023-04-13T01:31:04.700797Z"
    }
   },
   "outputs": [
    {
     "data": {
      "text/plain": [
       "<matplotlib.lines.Line2D at 0x265922c4b80>"
      ]
     },
     "execution_count": 7,
     "metadata": {},
     "output_type": "execute_result"
    },
    {
     "data": {
      "image/png": "[encoded data removed]",
      "text/plain": [
       "<Figure size 432x288 with 1 Axes>"
      ]
     },
     "metadata": {},
     "output_type": "display_data"
    }
   ],
   "source": [
    "sns.distplot(df['total_bill'])\n",
    "plt.axvline(np.mean(df['total_bill']), color ='red')"
   ]
  },
  {
   "cell_type": "markdown",
   "id": "398d0b59",
   "metadata": {},
   "source": [
    "### Respuesta\n",
    "La distribución es `Log-Normal`, ya que es una variable continua.\n",
    "\n",
    "La distribución `Log-Normal` se utiliza a menudo para modelar variables positivas que tienen una distribución asimétrica y con valores atípicos en los extremos. Es una distribución de probabilidad continua que se obtiene al tomar el logaritmo natural de una variable aleatoria positiva, que a menudo sigue una distribución normal.\n",
    "\n",
    "La principal diferencia entre la distribución de `Poisson` y la distribución `Log-Normal` es que **la distribución de Poisson se utiliza para modelar datos discretos**, mientras que **la distribución log-normal se utiliza para modelar datos continuos**. Además, la distribución de Poisson se utiliza para modelar el número de eventos raros, mientras que la distribución log-normal se utiliza para modelar variables positivas que tienen una distribución asimétrica y con valores atípicos en los extremos."
   ]
  },
  {
   "cell_type": "code",
   "execution_count": 8,
   "id": "dfac50c5",
   "metadata": {
    "ExecuteTime": {
     "end_time": "2023-04-13T01:31:05.288957Z",
     "start_time": "2023-04-13T01:31:04.995622Z"
    }
   },
   "outputs": [
    {
     "data": {
      "text/plain": [
       "<matplotlib.lines.Line2D at 0x265978f6670>"
      ]
     },
     "execution_count": 8,
     "metadata": {},
     "output_type": "execute_result"
    },
    {
     "data": {
      "image/png": "[encoded data removed]",
      "text/plain": [
       "<Figure size 432x288 with 1 Axes>"
      ]
     },
     "metadata": {},
     "output_type": "display_data"
    }
   ],
   "source": [
    "sns.distplot(df['tip'])\n",
    "plt.axvline(np.mean(df['tip']), color ='red')"
   ]
  },
  {
   "cell_type": "markdown",
   "id": "072a4113",
   "metadata": {},
   "source": [
    "### Respuesta:\n",
    "La distribución es `Log-Normal`, el mismo argumento que en `total_bill`."
   ]
  },
  {
   "cell_type": "markdown",
   "id": "5a10c012",
   "metadata": {},
   "source": [
    "### ¿Cual es la relación entre total_bill y tip?"
   ]
  },
  {
   "cell_type": "code",
   "execution_count": 9,
   "id": "6309716b",
   "metadata": {
    "ExecuteTime": {
     "end_time": "2023-04-13T01:31:05.615795Z",
     "start_time": "2023-04-13T01:31:05.290952Z"
    }
   },
   "outputs": [
    {
     "data": {
      "text/plain": [
       "<matplotlib.lines.Line2D at 0x26597b7e580>"
      ]
     },
     "execution_count": 9,
     "metadata": {},
     "output_type": "execute_result"
    },
    {
     "data": {
      "image/png": "[encoded data removed]",
      "text/plain": [
       "<Figure size 432x288 with 1 Axes>"
      ]
     },
     "metadata": {},
     "output_type": "display_data"
    }
   ],
   "source": [
    "df['smoker'].replace('No', 0, inplace=True)\n",
    "df['smoker'].replace('Yes', 1, inplace=True)\n",
    "\n",
    "sns.scatterplot(data = df, y ='total_bill', x = 'tip', hue=\"smoker\")\n",
    "plt.axhline(np.mean(df.loc[df['smoker']==1].total_bill), color ='darkorange')\n",
    "plt.axhline(np.mean(df.loc[df['smoker']==0].total_bill), color ='blue')"
   ]
  },
  {
   "cell_type": "markdown",
   "id": "e81acf38",
   "metadata": {},
   "source": [
    "## ATE\n",
    "\n",
    "1. Compute el ATE usando test de medias no-parametricos & parametricos.\n",
    "\n",
    "2. Compute el ATE usando un modelo líneal."
   ]
  },
  {
   "cell_type": "markdown",
   "id": "41503828",
   "metadata": {},
   "source": [
    "El `ATE` (`Average Treatment Effect`) es un estadístico utilizado en experimentos para estimar el efecto promedio del tratamiento sobre una variable de interés. Para calcular el ATE, es necesario comparar la media de la variable de interés en el grupo de tratamiento y en el grupo de control.\n",
    "\n",
    "Existen varios métodos para calcular el `ATE`, tanto paramétricos como no paramétricos. A continuación, se describen dos métodos para calcular el ATE utilizando pruebas de medias no paramétricas y paramétricas.\n",
    "\n",
    "- Método no paramétrico:\n",
    "\n",
    "1. Calcular la diferencia entre las medias de la variable de interés en el grupo de tratamiento y en el grupo de control.\n",
    "\n",
    "2. Realizar una prueba de hipótesis no paramétrica para determinar si la diferencia entre las medias es estadísticamente significativa. Para esto, se puede utilizar la prueba de rangos con signo de Wilcoxon o la prueba de rangos con signo de `Mann-Whitney`.\n",
    "\n",
    "3. Si la prueba de hipótesis indica que la diferencia entre las medias es estadísticamente significativa, entonces el ATE es igual a la diferencia entre las medias.\n",
    "\n",
    "- Método paramétrico:\n",
    "\n",
    "1. Ajustar un modelo de regresión lineal que incluya el tratamiento como una variable independiente y la variable de interés como una variable dependiente.\n",
    "\n",
    "2. Calcular el coeficiente del tratamiento en el modelo de regresión. Este coeficiente representa la diferencia entre las medias de la variable de interés en el grupo de tratamiento y en el grupo de control, controlando por cualquier otra variable en el modelo.\n",
    "\n",
    "3. Realizar una prueba de hipótesis paramétrica para determinar si el coeficiente del tratamiento es estadísticamente significativo. Para esto, se puede utilizar una prueba t de Student o una prueba F de análisis de varianza (ANOVA).\n",
    "\n",
    "4. Si la prueba de hipótesis indica que el coeficiente del tratamiento es estadísticamente significativo, entonces el ATE es igual al coeficiente del tratamiento.\n",
    "\n",
    "Es importante tener en cuenta que tanto los métodos no paramétricos como los paramétricos tienen supuestos y limitaciones, y la elección del método adecuado dependerá de las características específicas de los datos y de los objetivos del estudio.\n",
    "\n",
    "- Modelo Lineal:\n",
    "\n",
    "1. Seleccionar la variable de interés y la variable de tratamiento en el conjunto de datos. Supongamos que la variable de interés se llama Y y la variable de tratamiento se llama T.\n",
    "\n",
    "2. Ajustar un modelo de regresión lineal que incluya T como variable independiente y Y como variable dependiente. El modelo se puede escribir como:\n",
    "\n",
    "$Y = \\alpha + \\beta*Tratamiento + \\varepsilon$\n",
    "\n",
    "Donde $\\alpha$ es la constante del modelo, $\\beta$ es el coeficiente del tratamiento y $\\varepsilon$ es el término de error.\n",
    "\n",
    "Interpretar el coeficiente del tratamiento $\\beta$. Este coeficiente representa la diferencia esperada en la variable de interés entre el grupo de tratamiento y el grupo de control. Es decir, si $\\beta$ es positivo, entonces se espera que la variable de interés sea mayor en el grupo de tratamiento que en el grupo de control, y si $\\beta$ es negativo, entonces se espera que la variable de interés sea menor en el grupo de tratamiento que en el grupo de control.\n",
    "\n",
    "Calcular el ATE como la diferencia entre las medias de la variable de interés en el grupo de tratamiento y en el grupo de control. Esta diferencia se puede estimar como el coeficiente del tratamiento $\\beta$ multiplicado por la media de la variable de tratamiento en la muestra.\n",
    "\n",
    "$ATE = \\beta * media(T)$\n",
    "\n",
    "Es importante tener en cuenta que para obtener una estimación precisa del ATE, es necesario que el modelo de regresión ajustado sea adecuado para los datos y que se cumplan los supuestos del modelo, como la linealidad, normalidad y homocedasticidad de los errores. Además, es necesario tener en cuenta posibles factores de confusión que puedan afectar la relación entre el tratamiento y la variable de interés y que deben ser controlados en el modelo de regresión."
   ]
  },
  {
   "cell_type": "markdown",
   "id": "53b27e01",
   "metadata": {},
   "source": [
    "### ATE usando un test de medias no-paramétrico"
   ]
  },
  {
   "cell_type": "code",
   "execution_count": 10,
   "id": "371b8268",
   "metadata": {
    "ExecuteTime": {
     "end_time": "2023-04-13T01:31:05.756957Z",
     "start_time": "2023-04-13T01:31:05.621780Z"
    }
   },
   "outputs": [],
   "source": [
    "def difference_in_means(df, treatment, target):\n",
    "        mean_treatment = np.mean(df[df[treatment]==True][target])\n",
    "        mean_control = np.mean(df[df[treatment]==False][target])\n",
    "        return mean_treatment - mean_control"
   ]
  },
  {
   "cell_type": "code",
   "execution_count": 11,
   "id": "12c8e4d8",
   "metadata": {
    "ExecuteTime": {
     "end_time": "2023-04-13T01:31:05.882661Z",
     "start_time": "2023-04-13T01:31:05.758952Z"
    }
   },
   "outputs": [],
   "source": [
    "def bootstrap_replicate_1d(data, func):\n",
    "    \"\"\"Generar réplicas de datos 1D.\"\"\"    \n",
    "    bs_sample = np.random.choice(data, len(data))\n",
    "    return func(bs_sample)\n",
    "\n",
    "def draw_bs_reps(data, func, size=1):\n",
    "    \"\"\"Obtener réplicas con bootstrap.\"\"\"\n",
    "\n",
    "    # Inicializar un array de réplicas: bs_replicates\n",
    "    bs_replicates = np.empty(size)\n",
    "\n",
    "    # Generar réplicas\n",
    "    for i in range(size):\n",
    "        bs_replicates[i] = bootstrap_replicate_1d(data, func)\n",
    "\n",
    "    return bs_replicates"
   ]
  },
  {
   "cell_type": "code",
   "execution_count": 12,
   "id": "c13b9511",
   "metadata": {
    "ExecuteTime": {
     "end_time": "2023-04-13T01:31:15.399327Z",
     "start_time": "2023-04-13T01:31:05.884658Z"
    }
   },
   "outputs": [
    {
     "name": "stdout",
     "output_type": "stream",
     "text": [
      "Diferencia de medias: -1.5680659403261359\n",
      "\n",
      "IC: [-3.60313209  0.43356783]\n",
      "\n"
     ]
    },
    {
     "data": {
      "text/plain": [
       "<matplotlib.collections.PolyCollection at 0x26597c459a0>"
      ]
     },
     "execution_count": 12,
     "metadata": {},
     "output_type": "execute_result"
    },
    {
     "data": {
      "image/png": "[encoded data removed]",
      "text/plain": [
       "<Figure size 432x288 with 1 Axes>"
      ]
     },
     "metadata": {},
     "output_type": "display_data"
    }
   ],
   "source": [
    "tratados = df[df['smoker']==1]\n",
    "no_tratados = df[df['smoker']==0]\n",
    "\n",
    "dif_medias = np.mean(no_tratados.total_bill) - np.mean(tratados.total_bill)\n",
    "print(f\"Diferencia de medias: {dif_medias}\\n\")\n",
    "\n",
    "df_concatenated = np.concatenate((tratados.total_bill, no_tratados.total_bill))\n",
    "mean_total_bill = np.mean(df_concatenated)\n",
    "tratados_shifted = tratados.total_bill - np.mean(tratados.total_bill) + mean_total_bill\n",
    "no_tratados_shifted = no_tratados.total_bill - np.mean(no_tratados.total_bill) + mean_total_bill\n",
    "\n",
    "bs_replicates_tratados = draw_bs_reps(tratados_shifted, np.mean, size=100000)\n",
    "bs_replicates_no_tratados = draw_bs_reps(no_tratados_shifted, np.mean, size=100000)\n",
    "\n",
    "tratados_replicates = draw_bs_reps(tratados.total_bill, np.mean, size=10000)\n",
    "no_tratados_replicates = draw_bs_reps(no_tratados.total_bill, np.mean, size=10000)\n",
    "\n",
    "ci_tratados = np.percentile(no_tratados_replicates - tratados_replicates, [5, 95])\n",
    "print(f\"IC: {ci_tratados}\\n\")\n",
    "\n",
    "plt.hist(no_tratados_replicates - tratados_replicates, bins=20)\n",
    "plt.xlabel('Efecto de tratamiento (Dif. de medias)')\n",
    "plt.ylabel('Frecuencias')\n",
    "plt.title('Réplicas bootstrap de las medias')\n",
    "plt.axvline(x=ci_tratados[0], color='#395d90')\n",
    "plt.axvline(x=ci_tratados[1], color='#395d90')\n",
    "plt.fill_between([ci_tratados[0], ci_tratados[1]], 1500, color='#395d90', alpha=0.2)"
   ]
  },
  {
   "cell_type": "code",
   "execution_count": 13,
   "id": "bc3a387f",
   "metadata": {
    "ExecuteTime": {
     "end_time": "2023-04-13T01:31:15.525323Z",
     "start_time": "2023-04-13T01:31:15.401176Z"
    }
   },
   "outputs": [
    {
     "name": "stdout",
     "output_type": "stream",
     "text": [
      "Test Stat 7531.5000, p-value 0.3413\n"
     ]
    }
   ],
   "source": [
    "from scipy.stats import mannwhitneyu\n",
    "\n",
    "# Formulación de Hipótesis\n",
    "\n",
    "# H0: S1 = S2 -> No hay diferencia estadísticamente significativa entre la punta de fumadores y no fumadores\n",
    "# H1: S1 != S2 -> Hay una diferencia estadísticamente significativa entre la punta de fumadores y no fumadores\n",
    "\n",
    "test_stat, pvalue = mannwhitneyu(df.loc[df[\"smoker\"] == 1, \"total_bill\"],\n",
    "                              df.loc[df[\"smoker\"] == 0, \"total_bill\"])\n",
    "\n",
    "print('Test Stat %.4f, p-value %.4f' % (test_stat, pvalue))\n",
    "\n",
    "# p_value > 0.05 no se rechaza. No existe una diferencia estadísticamente significativa entre la punta de fumadores y no fumadores."
   ]
  },
  {
   "cell_type": "markdown",
   "id": "6d16b6ef",
   "metadata": {},
   "source": [
    "### Respuesta:\n",
    "Como podemos ver, el **pvalue es mayor a 0.05** (además se ve que en el gráfico el intervalo de confianza pasa por el 0, esto se debe a que la diferencia de medias es baja `-1.568`).\n",
    "\n",
    "**Esto nos dice que la diferencia de medias no es significativa, por lo que el ATE no es igual a la diferencia de medias.**"
   ]
  },
  {
   "cell_type": "markdown",
   "id": "3ccefcfc",
   "metadata": {},
   "source": [
    "### ATE usando un test de medias paramétrico"
   ]
  },
  {
   "cell_type": "code",
   "execution_count": 14,
   "id": "0b195fd9",
   "metadata": {
    "ExecuteTime": {
     "end_time": "2023-04-13T01:31:15.678858Z",
     "start_time": "2023-04-13T01:31:15.527244Z"
    }
   },
   "outputs": [
    {
     "data": {
      "text/html": [
       "<table class=\"simpletable\">\n",
       "<caption>OLS Regression Results</caption>\n",
       "<tr>\n",
       "  <th>Dep. Variable:</th>       <td>total_bill</td>    <th>  R-squared:         </th> <td>   0.007</td>\n",
       "</tr>\n",
       "<tr>\n",
       "  <th>Model:</th>                   <td>OLS</td>       <th>  Adj. R-squared:    </th> <td>   0.003</td>\n",
       "</tr>\n",
       "<tr>\n",
       "  <th>Method:</th>             <td>Least Squares</td>  <th>  F-statistic:       </th> <td>   1.634</td>\n",
       "</tr>\n",
       "<tr>\n",
       "  <th>Date:</th>             <td>Wed, 12 Apr 2023</td> <th>  Prob (F-statistic):</th>  <td> 0.202</td> \n",
       "</tr>\n",
       "<tr>\n",
       "  <th>Time:</th>                 <td>21:31:15</td>     <th>  Log-Likelihood:    </th> <td> -878.28</td>\n",
       "</tr>\n",
       "<tr>\n",
       "  <th>No. Observations:</th>      <td>   244</td>      <th>  AIC:               </th> <td>   1761.</td>\n",
       "</tr>\n",
       "<tr>\n",
       "  <th>Df Residuals:</th>          <td>   242</td>      <th>  BIC:               </th> <td>   1768.</td>\n",
       "</tr>\n",
       "<tr>\n",
       "  <th>Df Model:</th>              <td>     1</td>      <th>                     </th>     <td> </td>   \n",
       "</tr>\n",
       "<tr>\n",
       "  <th>Covariance Type:</th>         <td>HC3</td>       <th>                     </th>     <td> </td>   \n",
       "</tr>\n",
       "</table>\n",
       "<table class=\"simpletable\">\n",
       "<tr>\n",
       "       <td></td>          <th>coef</th>     <th>std err</th>      <th>z</th>      <th>P>|z|</th>  <th>[0.025</th>    <th>0.975]</th>  \n",
       "</tr>\n",
       "<tr>\n",
       "  <th>Intercept</th>   <td>   20.7563</td> <td>    1.025</td> <td>   20.249</td> <td> 0.000</td> <td>   18.747</td> <td>   22.765</td>\n",
       "</tr>\n",
       "<tr>\n",
       "  <th>smoker[T.0]</th> <td>   -1.5681</td> <td>    1.227</td> <td>   -1.278</td> <td> 0.201</td> <td>   -3.973</td> <td>    0.836</td>\n",
       "</tr>\n",
       "</table>\n",
       "<table class=\"simpletable\">\n",
       "<tr>\n",
       "  <th>Omnibus:</th>       <td>43.443</td> <th>  Durbin-Watson:     </th> <td>   1.902</td>\n",
       "</tr>\n",
       "<tr>\n",
       "  <th>Prob(Omnibus):</th> <td> 0.000</td> <th>  Jarque-Bera (JB):  </th> <td>  62.252</td>\n",
       "</tr>\n",
       "<tr>\n",
       "  <th>Skew:</th>          <td> 1.094</td> <th>  Prob(JB):          </th> <td>3.04e-14</td>\n",
       "</tr>\n",
       "<tr>\n",
       "  <th>Kurtosis:</th>      <td> 4.157</td> <th>  Cond. No.          </th> <td>    3.00</td>\n",
       "</tr>\n",
       "</table><br/><br/>Notes:<br/>[1] Standard Errors are heteroscedasticity robust (HC3)"
      ],
      "text/plain": [
       "<class 'statsmodels.iolib.summary.Summary'>\n",
       "\"\"\"\n",
       "                            OLS Regression Results                            \n",
       "==============================================================================\n",
       "Dep. Variable:             total_bill   R-squared:                       0.007\n",
       "Model:                            OLS   Adj. R-squared:                  0.003\n",
       "Method:                 Least Squares   F-statistic:                     1.634\n",
       "Date:                Wed, 12 Apr 2023   Prob (F-statistic):              0.202\n",
       "Time:                        21:31:15   Log-Likelihood:                -878.28\n",
       "No. Observations:                 244   AIC:                             1761.\n",
       "Df Residuals:                     242   BIC:                             1768.\n",
       "Df Model:                           1                                         \n",
       "Covariance Type:                  HC3                                         \n",
       "===============================================================================\n",
       "                  coef    std err          z      P>|z|      [0.025      0.975]\n",
       "-------------------------------------------------------------------------------\n",
       "Intercept      20.7563      1.025     20.249      0.000      18.747      22.765\n",
       "smoker[T.0]    -1.5681      1.227     -1.278      0.201      -3.973       0.836\n",
       "==============================================================================\n",
       "Omnibus:                       43.443   Durbin-Watson:                   1.902\n",
       "Prob(Omnibus):                  0.000   Jarque-Bera (JB):               62.252\n",
       "Skew:                           1.094   Prob(JB):                     3.04e-14\n",
       "Kurtosis:                       4.157   Cond. No.                         3.00\n",
       "==============================================================================\n",
       "\n",
       "Notes:\n",
       "[1] Standard Errors are heteroscedasticity robust (HC3)\n",
       "\"\"\""
      ]
     },
     "execution_count": 14,
     "metadata": {},
     "output_type": "execute_result"
    }
   ],
   "source": [
    "smf.ols('total_bill ~ smoker', data=df).fit(cov_type='HC3').summary()"
   ]
  },
  {
   "cell_type": "markdown",
   "id": "adb31156",
   "metadata": {},
   "source": [
    "### ATE usando un Modelo Lineal"
   ]
  },
  {
   "cell_type": "code",
   "execution_count": 15,
   "id": "ecbf3801",
   "metadata": {
    "ExecuteTime": {
     "end_time": "2023-04-13T01:31:15.801699Z",
     "start_time": "2023-04-13T01:31:15.681780Z"
    }
   },
   "outputs": [
    {
     "data": {
      "text/plain": [
       "Index(['total_bill', 'tip', 'sex', 'smoker', 'day', 'time', 'size'], dtype='object')"
      ]
     },
     "execution_count": 15,
     "metadata": {},
     "output_type": "execute_result"
    }
   ],
   "source": [
    "df.columns"
   ]
  },
  {
   "cell_type": "code",
   "execution_count": 16,
   "id": "65c452f3",
   "metadata": {
    "ExecuteTime": {
     "end_time": "2023-04-13T01:31:15.924384Z",
     "start_time": "2023-04-13T01:31:15.804698Z"
    }
   },
   "outputs": [
    {
     "data": {
      "text/html": [
       "<div>\n",
       "<style scoped>\n",
       "    .dataframe tbody tr th:only-of-type {\n",
       "        vertical-align: middle;\n",
       "    }\n",
       "\n",
       "    .dataframe tbody tr th {\n",
       "        vertical-align: top;\n",
       "    }\n",
       "\n",
       "    .dataframe thead th {\n",
       "        text-align: right;\n",
       "    }\n",
       "</style>\n",
       "<table border=\"1\" class=\"dataframe\">\n",
       "  <thead>\n",
       "    <tr style=\"text-align: right;\">\n",
       "      <th></th>\n",
       "      <th>total_bill</th>\n",
       "      <th>tip</th>\n",
       "      <th>sex</th>\n",
       "      <th>smoker</th>\n",
       "      <th>day</th>\n",
       "      <th>time</th>\n",
       "      <th>size</th>\n",
       "    </tr>\n",
       "  </thead>\n",
       "  <tbody>\n",
       "    <tr>\n",
       "      <th>0</th>\n",
       "      <td>16.99000</td>\n",
       "      <td>1.01000</td>\n",
       "      <td>Female</td>\n",
       "      <td>0</td>\n",
       "      <td>Sun</td>\n",
       "      <td>Dinner</td>\n",
       "      <td>2</td>\n",
       "    </tr>\n",
       "    <tr>\n",
       "      <th>1</th>\n",
       "      <td>10.34000</td>\n",
       "      <td>1.66000</td>\n",
       "      <td>Male</td>\n",
       "      <td>0</td>\n",
       "      <td>Sun</td>\n",
       "      <td>Dinner</td>\n",
       "      <td>3</td>\n",
       "    </tr>\n",
       "    <tr>\n",
       "      <th>2</th>\n",
       "      <td>21.01000</td>\n",
       "      <td>3.50000</td>\n",
       "      <td>Male</td>\n",
       "      <td>0</td>\n",
       "      <td>Sun</td>\n",
       "      <td>Dinner</td>\n",
       "      <td>3</td>\n",
       "    </tr>\n",
       "  </tbody>\n",
       "</table>\n",
       "</div>"
      ],
      "text/plain": [
       "   total_bill     tip     sex smoker  day    time  size\n",
       "0    16.99000 1.01000  Female      0  Sun  Dinner     2\n",
       "1    10.34000 1.66000    Male      0  Sun  Dinner     3\n",
       "2    21.01000 3.50000    Male      0  Sun  Dinner     3"
      ]
     },
     "execution_count": 16,
     "metadata": {},
     "output_type": "execute_result"
    }
   ],
   "source": [
    "df.head(3)"
   ]
  },
  {
   "cell_type": "code",
   "execution_count": 17,
   "id": "d6ff88ac",
   "metadata": {
    "ExecuteTime": {
     "end_time": "2023-04-13T01:31:16.114162Z",
     "start_time": "2023-04-13T01:31:15.926389Z"
    }
   },
   "outputs": [],
   "source": [
    "df['sex'].replace('Female', 0, inplace=True)\n",
    "df['sex'].replace('Male', 1, inplace=True)\n",
    "\n",
    "df['day'].replace('Thur', 0, inplace=True)\n",
    "df['day'].replace('Fri', 1, inplace=True)\n",
    "df['day'].replace('Sat', 2, inplace=True)\n",
    "df['day'].replace('Sun', 3, inplace=True)"
   ]
  },
  {
   "cell_type": "code",
   "execution_count": 18,
   "id": "4e849876",
   "metadata": {
    "ExecuteTime": {
     "end_time": "2023-04-13T01:31:16.255708Z",
     "start_time": "2023-04-13T01:31:16.117068Z"
    }
   },
   "outputs": [
    {
     "data": {
      "text/html": [
       "<table class=\"simpletable\">\n",
       "<caption>OLS Regression Results</caption>\n",
       "<tr>\n",
       "  <th>Dep. Variable:</th>       <td>total_bill</td>    <th>  R-squared:         </th> <td>   0.399</td>\n",
       "</tr>\n",
       "<tr>\n",
       "  <th>Model:</th>                   <td>OLS</td>       <th>  Adj. R-squared:    </th> <td>   0.384</td>\n",
       "</tr>\n",
       "<tr>\n",
       "  <th>Method:</th>             <td>Least Squares</td>  <th>  F-statistic:       </th> <td>   22.06</td>\n",
       "</tr>\n",
       "<tr>\n",
       "  <th>Date:</th>             <td>Wed, 12 Apr 2023</td> <th>  Prob (F-statistic):</th> <td>1.39e-20</td>\n",
       "</tr>\n",
       "<tr>\n",
       "  <th>Time:</th>                 <td>21:31:16</td>     <th>  Log-Likelihood:    </th> <td> -816.97</td>\n",
       "</tr>\n",
       "<tr>\n",
       "  <th>No. Observations:</th>      <td>   244</td>      <th>  AIC:               </th> <td>   1648.</td>\n",
       "</tr>\n",
       "<tr>\n",
       "  <th>Df Residuals:</th>          <td>   237</td>      <th>  BIC:               </th> <td>   1672.</td>\n",
       "</tr>\n",
       "<tr>\n",
       "  <th>Df Model:</th>              <td>     6</td>      <th>                     </th>     <td> </td>   \n",
       "</tr>\n",
       "<tr>\n",
       "  <th>Covariance Type:</th>         <td>HC3</td>       <th>                     </th>     <td> </td>   \n",
       "</tr>\n",
       "</table>\n",
       "<table class=\"simpletable\">\n",
       "<tr>\n",
       "       <td></td>          <th>coef</th>     <th>std err</th>      <th>z</th>      <th>P>|z|</th>  <th>[0.025</th>    <th>0.975]</th>  \n",
       "</tr>\n",
       "<tr>\n",
       "  <th>Intercept</th>   <td>    6.7648</td> <td>    1.808</td> <td>    3.742</td> <td> 0.000</td> <td>    3.221</td> <td>   10.308</td>\n",
       "</tr>\n",
       "<tr>\n",
       "  <th>smoker[T.0]</th> <td>   -3.0433</td> <td>    1.108</td> <td>   -2.747</td> <td> 0.006</td> <td>   -5.215</td> <td>   -0.872</td>\n",
       "</tr>\n",
       "<tr>\n",
       "  <th>sex[T.0]</th>    <td>   -1.4311</td> <td>    0.907</td> <td>   -1.577</td> <td> 0.115</td> <td>   -3.209</td> <td>    0.347</td>\n",
       "</tr>\n",
       "<tr>\n",
       "  <th>day[T.1]</th>    <td>   -0.2012</td> <td>    1.866</td> <td>   -0.108</td> <td> 0.914</td> <td>   -3.858</td> <td>    3.456</td>\n",
       "</tr>\n",
       "<tr>\n",
       "  <th>day[T.2]</th>    <td>    1.4747</td> <td>    1.148</td> <td>    1.285</td> <td> 0.199</td> <td>   -0.775</td> <td>    3.724</td>\n",
       "</tr>\n",
       "<tr>\n",
       "  <th>day[T.3]</th>    <td>    1.1927</td> <td>    1.154</td> <td>    1.033</td> <td> 0.301</td> <td>   -1.069</td> <td>    3.455</td>\n",
       "</tr>\n",
       "<tr>\n",
       "  <th>size</th>        <td>    5.6556</td> <td>    0.562</td> <td>   10.057</td> <td> 0.000</td> <td>    4.553</td> <td>    6.758</td>\n",
       "</tr>\n",
       "</table>\n",
       "<table class=\"simpletable\">\n",
       "<tr>\n",
       "  <th>Omnibus:</th>       <td>34.692</td> <th>  Durbin-Watson:     </th> <td>   1.901</td>\n",
       "</tr>\n",
       "<tr>\n",
       "  <th>Prob(Omnibus):</th> <td> 0.000</td> <th>  Jarque-Bera (JB):  </th> <td>  46.103</td>\n",
       "</tr>\n",
       "<tr>\n",
       "  <th>Skew:</th>          <td> 0.934</td> <th>  Prob(JB):          </th> <td>9.75e-11</td>\n",
       "</tr>\n",
       "<tr>\n",
       "  <th>Kurtosis:</th>      <td> 4.023</td> <th>  Cond. No.          </th> <td>    16.0</td>\n",
       "</tr>\n",
       "</table><br/><br/>Notes:<br/>[1] Standard Errors are heteroscedasticity robust (HC3)"
      ],
      "text/plain": [
       "<class 'statsmodels.iolib.summary.Summary'>\n",
       "\"\"\"\n",
       "                            OLS Regression Results                            \n",
       "==============================================================================\n",
       "Dep. Variable:             total_bill   R-squared:                       0.399\n",
       "Model:                            OLS   Adj. R-squared:                  0.384\n",
       "Method:                 Least Squares   F-statistic:                     22.06\n",
       "Date:                Wed, 12 Apr 2023   Prob (F-statistic):           1.39e-20\n",
       "Time:                        21:31:16   Log-Likelihood:                -816.97\n",
       "No. Observations:                 244   AIC:                             1648.\n",
       "Df Residuals:                     237   BIC:                             1672.\n",
       "Df Model:                           6                                         \n",
       "Covariance Type:                  HC3                                         \n",
       "===============================================================================\n",
       "                  coef    std err          z      P>|z|      [0.025      0.975]\n",
       "-------------------------------------------------------------------------------\n",
       "Intercept       6.7648      1.808      3.742      0.000       3.221      10.308\n",
       "smoker[T.0]    -3.0433      1.108     -2.747      0.006      -5.215      -0.872\n",
       "sex[T.0]       -1.4311      0.907     -1.577      0.115      -3.209       0.347\n",
       "day[T.1]       -0.2012      1.866     -0.108      0.914      -3.858       3.456\n",
       "day[T.2]        1.4747      1.148      1.285      0.199      -0.775       3.724\n",
       "day[T.3]        1.1927      1.154      1.033      0.301      -1.069       3.455\n",
       "size            5.6556      0.562     10.057      0.000       4.553       6.758\n",
       "==============================================================================\n",
       "Omnibus:                       34.692   Durbin-Watson:                   1.901\n",
       "Prob(Omnibus):                  0.000   Jarque-Bera (JB):               46.103\n",
       "Skew:                           0.934   Prob(JB):                     9.75e-11\n",
       "Kurtosis:                       4.023   Cond. No.                         16.0\n",
       "==============================================================================\n",
       "\n",
       "Notes:\n",
       "[1] Standard Errors are heteroscedasticity robust (HC3)\n",
       "\"\"\""
      ]
     },
     "execution_count": 18,
     "metadata": {},
     "output_type": "execute_result"
    }
   ],
   "source": [
    "smf.ols('total_bill ~ size + smoker + sex + day', df).fit(cov_type='HC3').summary()"
   ]
  },
  {
   "cell_type": "markdown",
   "id": "65fd9f2c",
   "metadata": {},
   "source": [
    "`Sex` y `Day` las debemos eliminar ya que no son significativas en el modelo.\n",
    "\n",
    "Ademásp podemos ver que el efecto causal aumento de -1.5 a -2.4, lo cuál nos da evidencia de lo dicho anteriormente sobre que esta diferencia de medias no era significativa y, por lo tanto, el ATE era diferente a esta.\n",
    "\n",
    "**Ahora el pvalue del tratamiento es de 0.016 < 0.05, por lo que el ATE sería más cercano a -2.4 que a -1.5.**"
   ]
  },
  {
   "cell_type": "code",
   "execution_count": 19,
   "id": "8726a832",
   "metadata": {
    "ExecuteTime": {
     "end_time": "2023-04-13T01:31:16.397258Z",
     "start_time": "2023-04-13T01:31:16.258698Z"
    }
   },
   "outputs": [
    {
     "data": {
      "text/html": [
       "<table class=\"simpletable\">\n",
       "<caption>OLS Regression Results</caption>\n",
       "<tr>\n",
       "  <th>Dep. Variable:</th>       <td>total_bill</td>    <th>  R-squared:         </th> <td>   0.386</td>\n",
       "</tr>\n",
       "<tr>\n",
       "  <th>Model:</th>                   <td>OLS</td>       <th>  Adj. R-squared:    </th> <td>   0.381</td>\n",
       "</tr>\n",
       "<tr>\n",
       "  <th>Method:</th>             <td>Least Squares</td>  <th>  F-statistic:       </th> <td>   60.80</td>\n",
       "</tr>\n",
       "<tr>\n",
       "  <th>Date:</th>             <td>Wed, 12 Apr 2023</td> <th>  Prob (F-statistic):</th> <td>4.20e-22</td>\n",
       "</tr>\n",
       "<tr>\n",
       "  <th>Time:</th>                 <td>21:31:16</td>     <th>  Log-Likelihood:    </th> <td> -819.71</td>\n",
       "</tr>\n",
       "<tr>\n",
       "  <th>No. Observations:</th>      <td>   244</td>      <th>  AIC:               </th> <td>   1645.</td>\n",
       "</tr>\n",
       "<tr>\n",
       "  <th>Df Residuals:</th>          <td>   241</td>      <th>  BIC:               </th> <td>   1656.</td>\n",
       "</tr>\n",
       "<tr>\n",
       "  <th>Df Model:</th>              <td>     2</td>      <th>                     </th>     <td> </td>   \n",
       "</tr>\n",
       "<tr>\n",
       "  <th>Covariance Type:</th>         <td>HC3</td>       <th>                     </th>     <td> </td>   \n",
       "</tr>\n",
       "</table>\n",
       "<table class=\"simpletable\">\n",
       "<tr>\n",
       "       <td></td>          <th>coef</th>     <th>std err</th>      <th>z</th>      <th>P>|z|</th>  <th>[0.025</th>    <th>0.975]</th>  \n",
       "</tr>\n",
       "<tr>\n",
       "  <th>Intercept</th>   <td>    6.7619</td> <td>    1.503</td> <td>    4.500</td> <td> 0.000</td> <td>    3.817</td> <td>    9.707</td>\n",
       "</tr>\n",
       "<tr>\n",
       "  <th>smoker[T.0]</th> <td>   -3.0803</td> <td>    0.998</td> <td>   -3.085</td> <td> 0.002</td> <td>   -5.037</td> <td>   -1.123</td>\n",
       "</tr>\n",
       "<tr>\n",
       "  <th>size</th>        <td>    5.8102</td> <td>    0.544</td> <td>   10.674</td> <td> 0.000</td> <td>    4.743</td> <td>    6.877</td>\n",
       "</tr>\n",
       "</table>\n",
       "<table class=\"simpletable\">\n",
       "<tr>\n",
       "  <th>Omnibus:</th>       <td>39.117</td> <th>  Durbin-Watson:     </th> <td>   1.880</td>\n",
       "</tr>\n",
       "<tr>\n",
       "  <th>Prob(Omnibus):</th> <td> 0.000</td> <th>  Jarque-Bera (JB):  </th> <td>  54.877</td>\n",
       "</tr>\n",
       "<tr>\n",
       "  <th>Skew:</th>          <td> 0.998</td> <th>  Prob(JB):          </th> <td>1.21e-12</td>\n",
       "</tr>\n",
       "<tr>\n",
       "  <th>Kurtosis:</th>      <td> 4.191</td> <th>  Cond. No.          </th> <td>    9.61</td>\n",
       "</tr>\n",
       "</table><br/><br/>Notes:<br/>[1] Standard Errors are heteroscedasticity robust (HC3)"
      ],
      "text/plain": [
       "<class 'statsmodels.iolib.summary.Summary'>\n",
       "\"\"\"\n",
       "                            OLS Regression Results                            \n",
       "==============================================================================\n",
       "Dep. Variable:             total_bill   R-squared:                       0.386\n",
       "Model:                            OLS   Adj. R-squared:                  0.381\n",
       "Method:                 Least Squares   F-statistic:                     60.80\n",
       "Date:                Wed, 12 Apr 2023   Prob (F-statistic):           4.20e-22\n",
       "Time:                        21:31:16   Log-Likelihood:                -819.71\n",
       "No. Observations:                 244   AIC:                             1645.\n",
       "Df Residuals:                     241   BIC:                             1656.\n",
       "Df Model:                           2                                         \n",
       "Covariance Type:                  HC3                                         \n",
       "===============================================================================\n",
       "                  coef    std err          z      P>|z|      [0.025      0.975]\n",
       "-------------------------------------------------------------------------------\n",
       "Intercept       6.7619      1.503      4.500      0.000       3.817       9.707\n",
       "smoker[T.0]    -3.0803      0.998     -3.085      0.002      -5.037      -1.123\n",
       "size            5.8102      0.544     10.674      0.000       4.743       6.877\n",
       "==============================================================================\n",
       "Omnibus:                       39.117   Durbin-Watson:                   1.880\n",
       "Prob(Omnibus):                  0.000   Jarque-Bera (JB):               54.877\n",
       "Skew:                           0.998   Prob(JB):                     1.21e-12\n",
       "Kurtosis:                       4.191   Cond. No.                         9.61\n",
       "==============================================================================\n",
       "\n",
       "Notes:\n",
       "[1] Standard Errors are heteroscedasticity robust (HC3)\n",
       "\"\"\""
      ]
     },
     "execution_count": 19,
     "metadata": {},
     "output_type": "execute_result"
    }
   ],
   "source": [
    "smf.ols('total_bill ~ size + smoker', df).fit(cov_type='HC3').summary()"
   ]
  },
  {
   "cell_type": "code",
   "execution_count": 20,
   "id": "5655a4c0",
   "metadata": {
    "ExecuteTime": {
     "end_time": "2023-04-13T01:31:16.538877Z",
     "start_time": "2023-04-13T01:31:16.399200Z"
    }
   },
   "outputs": [
    {
     "data": {
      "text/html": [
       "<table class=\"simpletable\">\n",
       "<caption>OLS Regression Results</caption>\n",
       "<tr>\n",
       "  <th>Dep. Variable:</th>      <td>residuos_tip</td>   <th>  R-squared (uncentered):</th>      <td>   0.297</td>\n",
       "</tr>\n",
       "<tr>\n",
       "  <th>Model:</th>                   <td>OLS</td>       <th>  Adj. R-squared (uncentered):</th> <td>   0.294</td>\n",
       "</tr>\n",
       "<tr>\n",
       "  <th>Method:</th>             <td>Least Squares</td>  <th>  F-statistic:       </th>          <td>   33.30</td>\n",
       "</tr>\n",
       "<tr>\n",
       "  <th>Date:</th>             <td>Wed, 12 Apr 2023</td> <th>  Prob (F-statistic):</th>          <td>2.40e-08</td>\n",
       "</tr>\n",
       "<tr>\n",
       "  <th>Time:</th>                 <td>21:31:16</td>     <th>  Log-Likelihood:    </th>          <td> -347.80</td>\n",
       "</tr>\n",
       "<tr>\n",
       "  <th>No. Observations:</th>      <td>   244</td>      <th>  AIC:               </th>          <td>   697.6</td>\n",
       "</tr>\n",
       "<tr>\n",
       "  <th>Df Residuals:</th>          <td>   243</td>      <th>  BIC:               </th>          <td>   701.1</td>\n",
       "</tr>\n",
       "<tr>\n",
       "  <th>Df Model:</th>              <td>     1</td>      <th>                     </th>              <td> </td>   \n",
       "</tr>\n",
       "<tr>\n",
       "  <th>Covariance Type:</th>         <td>HC3</td>       <th>                     </th>              <td> </td>   \n",
       "</tr>\n",
       "</table>\n",
       "<table class=\"simpletable\">\n",
       "<tr>\n",
       "           <td></td>              <th>coef</th>     <th>std err</th>      <th>z</th>      <th>P>|z|</th>  <th>[0.025</th>    <th>0.975]</th>  \n",
       "</tr>\n",
       "<tr>\n",
       "  <th>residuos_total_bill</th> <td>    0.0939</td> <td>    0.016</td> <td>    5.770</td> <td> 0.000</td> <td>    0.062</td> <td>    0.126</td>\n",
       "</tr>\n",
       "</table>\n",
       "<table class=\"simpletable\">\n",
       "<tr>\n",
       "  <th>Omnibus:</th>       <td>26.545</td> <th>  Durbin-Watson:     </th> <td>   2.101</td>\n",
       "</tr>\n",
       "<tr>\n",
       "  <th>Prob(Omnibus):</th> <td> 0.000</td> <th>  Jarque-Bera (JB):  </th> <td>  49.452</td>\n",
       "</tr>\n",
       "<tr>\n",
       "  <th>Skew:</th>          <td> 0.584</td> <th>  Prob(JB):          </th> <td>1.83e-11</td>\n",
       "</tr>\n",
       "<tr>\n",
       "  <th>Kurtosis:</th>      <td> 4.871</td> <th>  Cond. No.          </th> <td>    1.00</td>\n",
       "</tr>\n",
       "</table><br/><br/>Notes:<br/>[1] R² is computed without centering (uncentered) since the model does not contain a constant.<br/>[2] Standard Errors are heteroscedasticity robust (HC3)"
      ],
      "text/plain": [
       "<class 'statsmodels.iolib.summary.Summary'>\n",
       "\"\"\"\n",
       "                                 OLS Regression Results                                \n",
       "=======================================================================================\n",
       "Dep. Variable:           residuos_tip   R-squared (uncentered):                   0.297\n",
       "Model:                            OLS   Adj. R-squared (uncentered):              0.294\n",
       "Method:                 Least Squares   F-statistic:                              33.30\n",
       "Date:                Wed, 12 Apr 2023   Prob (F-statistic):                    2.40e-08\n",
       "Time:                        21:31:16   Log-Likelihood:                         -347.80\n",
       "No. Observations:                 244   AIC:                                      697.6\n",
       "Df Residuals:                     243   BIC:                                      701.1\n",
       "Df Model:                           1                                                  \n",
       "Covariance Type:                  HC3                                                  \n",
       "=======================================================================================\n",
       "                          coef    std err          z      P>|z|      [0.025      0.975]\n",
       "---------------------------------------------------------------------------------------\n",
       "residuos_total_bill     0.0939      0.016      5.770      0.000       0.062       0.126\n",
       "==============================================================================\n",
       "Omnibus:                       26.545   Durbin-Watson:                   2.101\n",
       "Prob(Omnibus):                  0.000   Jarque-Bera (JB):               49.452\n",
       "Skew:                           0.584   Prob(JB):                     1.83e-11\n",
       "Kurtosis:                       4.871   Cond. No.                         1.00\n",
       "==============================================================================\n",
       "\n",
       "Notes:\n",
       "[1] R² is computed without centering (uncentered) since the model does not contain a constant.\n",
       "[2] Standard Errors are heteroscedasticity robust (HC3)\n",
       "\"\"\""
      ]
     },
     "execution_count": 20,
     "metadata": {},
     "output_type": "execute_result"
    }
   ],
   "source": [
    "df['residuos_total_bill'] = smf.ols('total_bill ~ size + smoker', df).fit(cov_type='HC3').resid \n",
    "df['residuos_tip'] = smf.ols('tip ~ size + smoker', df).fit(cov_type='HC3').resid \n",
    "smf.ols('residuos_tip ~ residuos_total_bill - 1', df).fit(cov_type='HC3').summary()"
   ]
  },
  {
   "cell_type": "code",
   "execution_count": 21,
   "id": "4452166d",
   "metadata": {
    "ExecuteTime": {
     "end_time": "2023-04-13T01:31:16.866469Z",
     "start_time": "2023-04-13T01:31:16.541835Z"
    }
   },
   "outputs": [
    {
     "data": {
      "text/plain": [
       "Text(0.5, 1.0, 'Residuos total_bill y tip')"
      ]
     },
     "execution_count": 21,
     "metadata": {},
     "output_type": "execute_result"
    },
    {
     "data": {
      "image/png": "[encoded data removed]",
      "text/plain": [
       "<Figure size 432x288 with 1 Axes>"
      ]
     },
     "metadata": {},
     "output_type": "display_data"
    }
   ],
   "source": [
    "sns.regplot(x=\"residuos_total_bill\", y=\"residuos_tip\", data=df, ci=False, line_kws={'color':'r', 'label':'linear fit'})\n",
    "plt.legend()\n",
    "plt.title(f\"Residuos total_bill y tip\")"
   ]
  },
  {
   "cell_type": "code",
   "execution_count": 22,
   "id": "2af5fcfe",
   "metadata": {
    "ExecuteTime": {
     "end_time": "2023-04-13T01:31:16.994306Z",
     "start_time": "2023-04-13T01:31:16.869393Z"
    }
   },
   "outputs": [],
   "source": [
    "df['residuos_total_bill_escalados'] = df['residuos_total_bill'] + np.mean(df['total_bill'])\n",
    "df['residuos_tip_escalados'] = df['residuos_tip'] + np.mean(df['tip'])"
   ]
  },
  {
   "cell_type": "code",
   "execution_count": 23,
   "id": "8a3c4fdc",
   "metadata": {
    "ExecuteTime": {
     "end_time": "2023-04-13T01:31:17.322585Z",
     "start_time": "2023-04-13T01:31:16.997223Z"
    }
   },
   "outputs": [
    {
     "data": {
      "text/plain": [
       "Text(0.5, 1.0, 'Residuos total_bill y tip')"
      ]
     },
     "execution_count": 23,
     "metadata": {},
     "output_type": "execute_result"
    },
    {
     "data": {
      "image/png": "[encoded data removed]",
      "text/plain": [
       "<Figure size 432x288 with 1 Axes>"
      ]
     },
     "metadata": {},
     "output_type": "display_data"
    }
   ],
   "source": [
    "sns.regplot(x=\"residuos_total_bill_escalados\", y=\"residuos_tip_escalados\", data=df, ci=False, line_kws={'color':'r', 'label':'linear fit'})\n",
    "plt.legend()\n",
    "plt.title(f\"Residuos total_bill y tip\")"
   ]
  },
  {
   "cell_type": "code",
   "execution_count": 24,
   "id": "0b6a1aeb",
   "metadata": {
    "ExecuteTime": {
     "end_time": "2023-04-13T01:31:17.463223Z",
     "start_time": "2023-04-13T01:31:17.323614Z"
    }
   },
   "outputs": [
    {
     "data": {
      "text/html": [
       "<table class=\"simpletable\">\n",
       "<caption>OLS Regression Results</caption>\n",
       "<tr>\n",
       "  <th>Dep. Variable:</th>    <td>residuos_tip_escalados</td> <th>  R-squared:         </th> <td>   0.297</td>\n",
       "</tr>\n",
       "<tr>\n",
       "  <th>Model:</th>                      <td>OLS</td>          <th>  Adj. R-squared:    </th> <td>   0.294</td>\n",
       "</tr>\n",
       "<tr>\n",
       "  <th>Method:</th>                <td>Least Squares</td>     <th>  F-statistic:       </th> <td>   33.01</td>\n",
       "</tr>\n",
       "<tr>\n",
       "  <th>Date:</th>                <td>Wed, 12 Apr 2023</td>    <th>  Prob (F-statistic):</th> <td>2.74e-08</td>\n",
       "</tr>\n",
       "<tr>\n",
       "  <th>Time:</th>                    <td>21:31:17</td>        <th>  Log-Likelihood:    </th> <td> -347.80</td>\n",
       "</tr>\n",
       "<tr>\n",
       "  <th>No. Observations:</th>         <td>   244</td>         <th>  AIC:               </th> <td>   699.6</td>\n",
       "</tr>\n",
       "<tr>\n",
       "  <th>Df Residuals:</th>             <td>   242</td>         <th>  BIC:               </th> <td>   706.6</td>\n",
       "</tr>\n",
       "<tr>\n",
       "  <th>Df Model:</th>                 <td>     1</td>         <th>                     </th>     <td> </td>   \n",
       "</tr>\n",
       "<tr>\n",
       "  <th>Covariance Type:</th>            <td>HC3</td>          <th>                     </th>     <td> </td>   \n",
       "</tr>\n",
       "</table>\n",
       "<table class=\"simpletable\">\n",
       "<tr>\n",
       "                <td></td>                   <th>coef</th>     <th>std err</th>      <th>z</th>      <th>P>|z|</th>  <th>[0.025</th>    <th>0.975]</th>  \n",
       "</tr>\n",
       "<tr>\n",
       "  <th>Intercept</th>                     <td>    1.1406</td> <td>    0.301</td> <td>    3.785</td> <td> 0.000</td> <td>    0.550</td> <td>    1.731</td>\n",
       "</tr>\n",
       "<tr>\n",
       "  <th>residuos_total_bill_escalados</th> <td>    0.0939</td> <td>    0.016</td> <td>    5.746</td> <td> 0.000</td> <td>    0.062</td> <td>    0.126</td>\n",
       "</tr>\n",
       "</table>\n",
       "<table class=\"simpletable\">\n",
       "<tr>\n",
       "  <th>Omnibus:</th>       <td>26.545</td> <th>  Durbin-Watson:     </th> <td>   2.101</td>\n",
       "</tr>\n",
       "<tr>\n",
       "  <th>Prob(Omnibus):</th> <td> 0.000</td> <th>  Jarque-Bera (JB):  </th> <td>  49.452</td>\n",
       "</tr>\n",
       "<tr>\n",
       "  <th>Skew:</th>          <td> 0.584</td> <th>  Prob(JB):          </th> <td>1.83e-11</td>\n",
       "</tr>\n",
       "<tr>\n",
       "  <th>Kurtosis:</th>      <td> 4.871</td> <th>  Cond. No.          </th> <td>    63.3</td>\n",
       "</tr>\n",
       "</table><br/><br/>Notes:<br/>[1] Standard Errors are heteroscedasticity robust (HC3)"
      ],
      "text/plain": [
       "<class 'statsmodels.iolib.summary.Summary'>\n",
       "\"\"\"\n",
       "                              OLS Regression Results                              \n",
       "==================================================================================\n",
       "Dep. Variable:     residuos_tip_escalados   R-squared:                       0.297\n",
       "Model:                                OLS   Adj. R-squared:                  0.294\n",
       "Method:                     Least Squares   F-statistic:                     33.01\n",
       "Date:                    Wed, 12 Apr 2023   Prob (F-statistic):           2.74e-08\n",
       "Time:                            21:31:17   Log-Likelihood:                -347.80\n",
       "No. Observations:                     244   AIC:                             699.6\n",
       "Df Residuals:                         242   BIC:                             706.6\n",
       "Df Model:                               1                                         \n",
       "Covariance Type:                      HC3                                         \n",
       "=================================================================================================\n",
       "                                    coef    std err          z      P>|z|      [0.025      0.975]\n",
       "-------------------------------------------------------------------------------------------------\n",
       "Intercept                         1.1406      0.301      3.785      0.000       0.550       1.731\n",
       "residuos_total_bill_escalados     0.0939      0.016      5.746      0.000       0.062       0.126\n",
       "==============================================================================\n",
       "Omnibus:                       26.545   Durbin-Watson:                   2.101\n",
       "Prob(Omnibus):                  0.000   Jarque-Bera (JB):               49.452\n",
       "Skew:                           0.584   Prob(JB):                     1.83e-11\n",
       "Kurtosis:                       4.871   Cond. No.                         63.3\n",
       "==============================================================================\n",
       "\n",
       "Notes:\n",
       "[1] Standard Errors are heteroscedasticity robust (HC3)\n",
       "\"\"\""
      ]
     },
     "execution_count": 24,
     "metadata": {},
     "output_type": "execute_result"
    }
   ],
   "source": [
    "smf.ols('residuos_tip_escalados ~ residuos_total_bill_escalados', df).fit(cov_type='HC3').summary()"
   ]
  }
 ],
 "metadata": {
  "hide_input": false,
  "kernelspec": {
   "display_name": "Python 3 (ipykernel)",
   "language": "python",
   "name": "python3"
  },
  "language_info": {
   "codemirror_mode": {
    "name": "ipython",
    "version": 3
   },
   "file_extension": ".py",
   "mimetype": "text/x-python",
   "name": "python",
   "nbconvert_exporter": "python",
   "pygments_lexer": "ipython3",
   "version": "3.9.12"
  },
  "nbTranslate": {
   "displayLangs": [
    "*"
   ],
   "hotkey": "alt-t",
   "langInMainMenu": true,
   "sourceLang": "en",
   "targetLang": "fr",
   "useGoogleTranslate": true
  },
  "toc": {
   "base_numbering": 1,
   "nav_menu": {},
   "number_sections": true,
   "sideBar": true,
   "skip_h1_title": false,
   "title_cell": "Table of Contents",
   "title_sidebar": "Contents",
   "toc_cell": true,
   "toc_position": {},
   "toc_section_display": true,
   "toc_window_display": false
  },
  "varInspector": {
   "cols": {
    "lenName": 16,
    "lenType": 16,
    "lenVar": 40
   },
   "kernels_config": {
    "python": {
     "delete_cmd_postfix": "",
     "delete_cmd_prefix": "del ",
     "library": "var_list.py",
     "varRefreshCmd": "print(var_dic_list())"
    },
    "r": {
     "delete_cmd_postfix": ") ",
     "delete_cmd_prefix": "rm(",
     "library": "var_list.r",
     "varRefreshCmd": "cat(var_dic_list()) "
    }
   },
   "types_to_exclude": [
    "module",
    "function",
    "builtin_function_or_method",
    "instance",
    "_Feature"
   ],
   "window_display": false
  }
 },
 "nbformat": 4,
 "nbformat_minor": 5
}
