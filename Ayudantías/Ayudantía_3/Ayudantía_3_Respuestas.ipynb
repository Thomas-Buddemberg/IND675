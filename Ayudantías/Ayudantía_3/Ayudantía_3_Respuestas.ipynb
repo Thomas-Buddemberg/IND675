{
 "cells": [
  {
   "cell_type": "markdown",
   "id": "c3231335",
   "metadata": {
    "toc": true
   },
   "source": [
    "<h1>Table of Contents<span class=\"tocSkip\"></span></h1>\n",
    "<div class=\"toc\"><ul class=\"toc-item\"><li><span><a href=\"#Ayudantía-3:-Variables-Instrumentales\" data-toc-modified-id=\"Ayudantía-3:-Variables-Instrumentales-1\"><span class=\"toc-item-num\">1&nbsp;&nbsp;</span>Ayudantía 3: Variables Instrumentales</a></span></li><li><span><a href=\"#Variables-Instrumentales\" data-toc-modified-id=\"Variables-Instrumentales-2\"><span class=\"toc-item-num\">2&nbsp;&nbsp;</span>Variables Instrumentales</a></span><ul class=\"toc-item\"><li><span><a href=\"#OVB:-Omitted-Variable-Bias:\" data-toc-modified-id=\"OVB:-Omitted-Variable-Bias:-2.1\"><span class=\"toc-item-num\">2.1&nbsp;&nbsp;</span><code>OVB</code>: Omitted Variable Bias:</a></span></li><li><span><a href=\"#Ejemplo:-coeficientes-sesgados\" data-toc-modified-id=\"Ejemplo:-coeficientes-sesgados-2.2\"><span class=\"toc-item-num\">2.2&nbsp;&nbsp;</span>Ejemplo: coeficientes sesgados</a></span></li><li><span><a href=\"#Endogeneidad\" data-toc-modified-id=\"Endogeneidad-2.3\"><span class=\"toc-item-num\">2.3&nbsp;&nbsp;</span>Endogeneidad</a></span></li><li><span><a href=\"#Trimestre-de-Nacimiento-(QOB)-y-el-Efecto-de-la-Educación-en-el-Salario\" data-toc-modified-id=\"Trimestre-de-Nacimiento-(QOB)-y-el-Efecto-de-la-Educación-en-el-Salario-2.4\"><span class=\"toc-item-num\">2.4&nbsp;&nbsp;</span>Trimestre de Nacimiento (QOB) y el Efecto de la Educación en el Salario</a></span></li><li><span><a href=\"#La-primera-etapa\" data-toc-modified-id=\"La-primera-etapa-2.5\"><span class=\"toc-item-num\">2.5&nbsp;&nbsp;</span>La primera etapa</a></span></li><li><span><a href=\"#La-forma-reducida-(Reduced-Form)\" data-toc-modified-id=\"La-forma-reducida-(Reduced-Form)-2.6\"><span class=\"toc-item-num\">2.6&nbsp;&nbsp;</span>La forma reducida (Reduced Form)</a></span></li><li><span><a href=\"#Variables-instrumentales-A-MANO\" data-toc-modified-id=\"Variables-instrumentales-A-MANO-2.7\"><span class=\"toc-item-num\">2.7&nbsp;&nbsp;</span>Variables instrumentales A MANO</a></span></li><li><span><a href=\"#Múltiples-instrumentos\" data-toc-modified-id=\"Múltiples-instrumentos-2.8\"><span class=\"toc-item-num\">2.8&nbsp;&nbsp;</span>Múltiples instrumentos</a></span></li><li><span><a href=\"#Debilidad-de-los-instrumentos\" data-toc-modified-id=\"Debilidad-de-los-instrumentos-2.9\"><span class=\"toc-item-num\">2.9&nbsp;&nbsp;</span>Debilidad de los instrumentos</a></span></li><li><span><a href=\"#Ideas-claves\" data-toc-modified-id=\"Ideas-claves-2.10\"><span class=\"toc-item-num\">2.10&nbsp;&nbsp;</span>Ideas claves</a></span></li></ul></li><li><span><a href=\"#Ejercicio-extra:\" data-toc-modified-id=\"Ejercicio-extra:-3\"><span class=\"toc-item-num\">3&nbsp;&nbsp;</span>Ejercicio extra:</a></span><ul class=\"toc-item\"><li><span><a href=\"#Datos:\" data-toc-modified-id=\"Datos:-3.1\"><span class=\"toc-item-num\">3.1&nbsp;&nbsp;</span>Datos:</a></span></li><li><span><a href=\"#Pregunta-1:-¿Cómo-sería-el-Direct-Acyclic-Graph-de-ese-ejemplo?\" data-toc-modified-id=\"Pregunta-1:-¿Cómo-sería-el-Direct-Acyclic-Graph-de-ese-ejemplo?-3.2\"><span class=\"toc-item-num\">3.2&nbsp;&nbsp;</span>Pregunta 1: ¿Cómo sería el Direct Acyclic Graph de ese ejemplo?</a></span></li><li><span><a href=\"#Pregunta-2:-Estime-el-modelo-usando-la-funcion-IV2SLS-de-linearmodels\" data-toc-modified-id=\"Pregunta-2:-Estime-el-modelo-usando-la-funcion-IV2SLS-de-linearmodels-3.3\"><span class=\"toc-item-num\">3.3&nbsp;&nbsp;</span>Pregunta 2: Estime el modelo usando la funcion IV2SLS de linearmodels</a></span></li><li><span><a href=\"#Pregunta-3:-¿Qué-puede-decir-de-los-resultados-obtenidos?\" data-toc-modified-id=\"Pregunta-3:-¿Qué-puede-decir-de-los-resultados-obtenidos?-3.4\"><span class=\"toc-item-num\">3.4&nbsp;&nbsp;</span>Pregunta 3: ¿Qué puede decir de los resultados obtenidos?</a></span></li></ul></li></ul></div>"
   ]
  },
  {
   "cell_type": "markdown",
   "id": "c992955c",
   "metadata": {},
   "source": [
    "# Ayudantía 3: Variables Instrumentales\n",
    "\n",
    "**Ayudante: Thomas Buddemberg**\n",
    "\n",
    "**Mail: tbuddemberg@alumnos.uai.cl**\n",
    "\n",
    "**Whatsapp: +569 7532 8800**"
   ]
  },
  {
   "cell_type": "markdown",
   "id": "5400c4f0",
   "metadata": {},
   "source": [
    "# Variables Instrumentales\n",
    "\n",
    "## `OVB`: Omitted Variable Bias:\n",
    "\n",
    "El `sesgo de variable omitida` ocurre en el análisis de regresión lineal cuando una o más **variables independientes** relevantes no están incluidas en su modelo de regresión.\n",
    "\n",
    "<img src=https://www.scribbr.com/wp-content/uploads/2023/03/omitted-variable-bias-preview.webp>\n",
    "\n",
    "Un modelo de regresión describe la relación entre una o más variables independientes (también llamadas predictoras, covariables o variables explicativas ) y una variable dependiente (a menudo llamada variable de respuesta o objetivo).\n",
    "\n",
    "Debido a que la variable omitida está oculta o no se observa, no se tiene en cuenta en su análisis, lo que afecta sus resultados.\n",
    "\n",
    "Esto puede sesgar sus coeficientes si la variable omitida está correlacionada con:\n",
    "\n",
    "1. La variable dependiente\n",
    "2. Una o más variables independientes"
   ]
  },
  {
   "cell_type": "markdown",
   "id": "7d80429c",
   "metadata": {},
   "source": [
    "## Ejemplo: coeficientes sesgados\n",
    "\n",
    "Consideremos la fórmula de regresión lineal simple para el efecto de la educación en los salarios:\n",
    "\n",
    "$\n",
    "\\log(\\mathrm{Salario})_i = \\beta_0 + \\kappa \\ \\mathrm{Educ}_i + u_i\n",
    "$\n",
    "\n",
    "Representa un modelo de regresión en el que se intenta predecir el logaritmo (el logaritmo se utiliza para manejar mejor los datos, especialmente cuando se tienen salarios muy altos) del salario de un individuo a partir de su nivel de educación, además de un término de error aleatorio.\n",
    "\n",
    "Donde: \n",
    "\n",
    "- $\\log(\\mathrm{Salario})_i$ representa el salario del individuo $i$ en una escala logarítmica (variable dependiente).\n",
    "- $\\mathrm{Educ}_i$ son los años de educación completados (variable independiente).\n",
    "- $\\beta_0$ es el intercepto, o el valor predicho de $Salario$ cuando $Educ$ es 0.\n",
    "- $\\kappa$ es el coeficiente de regresión, o cuánto esperamos que cambien los salarios a medida que aumenta la educación.\n",
    "- $u_i$ es el término de error, que muestra cuánta variación hay en nuestra estimación del coeficiente de regresión.\n",
    "\n",
    "Como vimos, la `Habilidad` es la **variable omitida** en este modelo: está ausente, pero no debería estarlo. La capacidad se correlaciona tanto con el salario como con la educación. Dado que no está incluido en nuestro modelo de regresión, concluimos que está \"escondido\" en alguna parte. ¿Pero donde?\n",
    "\n",
    "$\n",
    "\\log(\\mathrm{Salario})_i = \\beta_0 + \\kappa \\ \\mathrm{Educ}_i + \\pmb{\\beta}\\mathrm{Habilidad}_i + u_i\n",
    "$\n",
    "\n",
    "- $\\pmb{\\beta}$ es un vector de coeficientes de regresión de habilidad, que representa la relación entre las diferentes habilidades y el salario. Cada elemento del vector $\\pmb{\\beta}$ representa el efecto de una habilidad específica sobre el salario.\n",
    "\n",
    "## Endogeneidad\n",
    "\n",
    "Una variable omitida es una fuente de **endogeneidad**. La endogeneidad ocurre cuando una variable en el término de error también se correlaciona con una variable independiente.\n",
    "\n",
    "Cuando esto sucede, el efecto causal de la variable omitida se enreda en el coeficiente de la variable con la que está correlacionada. Esto, a su vez, socava nuestra capacidad de inferir causalidad y afecta gravemente nuestros resultados.\n",
    "\n",
    "---------------------------------------------------------------------------------\n",
    "\n",
    "Volviendo a nuestro ejemplo, la `Habilidad` está en el término de error debido a la **endogeneidad**. Se correlaciona con la variable independiente, ya que las personas con alta capacidad también tienden a alcanzar un mayor nivel educativo.\n",
    "Dado que la habilidad no está en el modelo de regresión, nuestra estimación de $\\beta_1$ absorberá parte del efecto de la habilidad.\n",
    "\n",
    "La estimación ahora está sesgada, por lo que ya no podemos hacer una afirmación causal sobre la `Educación`.\n",
    "\n",
    "Omitir una variable puede llevar a una **sobreestimación** (sesgo al alza) o **subestimación** (sesgo a la baja) del coeficiente de su(s) variable(s) independiente(s). *Dado que el coeficiente se vuelve poco fiable, el modelo de regresión también se vuelve poco fiable*."
   ]
  },
  {
   "cell_type": "code",
   "execution_count": 1,
   "id": "f701b039",
   "metadata": {},
   "outputs": [],
   "source": [
    "# pip install linearmodels"
   ]
  },
  {
   "cell_type": "code",
   "execution_count": 2,
   "id": "55aeb94d",
   "metadata": {},
   "outputs": [],
   "source": [
    "##### Como instalar Graphviz: https://www.youtube.com/watch?v=JYAHwQ_tMG0 #####\n",
    "# pip install graphviz"
   ]
  },
  {
   "cell_type": "code",
   "execution_count": 3,
   "id": "c75007e2",
   "metadata": {
    "ExecuteTime": {
     "end_time": "2023-05-14T04:14:25.912173Z",
     "start_time": "2023-05-14T04:14:23.982176Z"
    }
   },
   "outputs": [],
   "source": [
    "import warnings\n",
    "warnings.filterwarnings('ignore')\n",
    "\n",
    "import pandas as pd\n",
    "import numpy as np\n",
    "from scipy import stats\n",
    "from matplotlib import style\n",
    "import seaborn as sns\n",
    "from matplotlib import pyplot as plt\n",
    "import statsmodels.formula.api as smf\n",
    "import graphviz as gr\n",
    "\n",
    "from linearmodels.iv import IV2SLS\n",
    "\n",
    "%matplotlib inline\n",
    "\n",
    "pd.set_option(\"display.max_columns\", 5)\n",
    "style.use(\"fivethirtyeight\")"
   ]
  },
  {
   "cell_type": "code",
   "execution_count": 4,
   "id": "71ee78b7",
   "metadata": {},
   "outputs": [
    {
     "data": {
      "image/svg+xml": [
       "<?xml version=\"1.0\" encoding=\"UTF-8\" standalone=\"no\"?>\n",
       "<!DOCTYPE svg PUBLIC \"-//W3C//DTD SVG 1.1//EN\"\n",
       " \"http://www.w3.org/Graphics/SVG/1.1/DTD/svg11.dtd\">\n",
       "<!-- Generated by graphviz version 8.0.3 (20230416.2022)\n",
       " -->\n",
       "<!-- Pages: 1 -->\n",
       "<svg width=\"112pt\" height=\"188pt\"\n",
       " viewBox=\"0.00 0.00 112.39 188.00\" xmlns=\"http://www.w3.org/2000/svg\" xmlns:xlink=\"http://www.w3.org/1999/xlink\">\n",
       "<g id=\"graph0\" class=\"graph\" transform=\"scale(1 1) rotate(0) translate(4 184)\">\n",
       "<polygon fill=\"white\" stroke=\"none\" points=\"-4,4 -4,-184 108.39,-184 108.39,4 -4,4\"/>\n",
       "<!-- Habilidad -->\n",
       "<g id=\"node1\" class=\"node\">\n",
       "<title>Habilidad</title>\n",
       "<ellipse fill=\"none\" stroke=\"black\" cx=\"58.9\" cy=\"-162\" rx=\"45.49\" ry=\"18\"/>\n",
       "<text text-anchor=\"middle\" x=\"58.9\" y=\"-158.3\" font-family=\"Times New Roman,serif\" font-size=\"14.00\">Habilidad</text>\n",
       "</g>\n",
       "<!-- Educ -->\n",
       "<g id=\"node2\" class=\"node\">\n",
       "<title>Educ</title>\n",
       "<ellipse fill=\"none\" stroke=\"black\" cx=\"29.9\" cy=\"-90\" rx=\"29.8\" ry=\"18\"/>\n",
       "<text text-anchor=\"middle\" x=\"29.9\" y=\"-86.3\" font-family=\"Times New Roman,serif\" font-size=\"14.00\">Educ</text>\n",
       "</g>\n",
       "<!-- Habilidad&#45;&gt;Educ -->\n",
       "<g id=\"edge1\" class=\"edge\">\n",
       "<title>Habilidad&#45;&gt;Educ</title>\n",
       "<path fill=\"none\" stroke=\"black\" d=\"M51.88,-144.05C48.6,-136.14 44.62,-126.54 40.95,-117.69\"/>\n",
       "<polygon fill=\"black\" stroke=\"black\" points=\"43.91,-116.69 36.85,-108.79 37.45,-119.37 43.91,-116.69\"/>\n",
       "</g>\n",
       "<!-- Salario -->\n",
       "<g id=\"node3\" class=\"node\">\n",
       "<title>Salario</title>\n",
       "<ellipse fill=\"none\" stroke=\"black\" cx=\"58.9\" cy=\"-18\" rx=\"36\" ry=\"18\"/>\n",
       "<text text-anchor=\"middle\" x=\"58.9\" y=\"-14.3\" font-family=\"Times New Roman,serif\" font-size=\"14.00\">Salario</text>\n",
       "</g>\n",
       "<!-- Habilidad&#45;&gt;Salario -->\n",
       "<g id=\"edge2\" class=\"edge\">\n",
       "<title>Habilidad&#45;&gt;Salario</title>\n",
       "<path fill=\"none\" stroke=\"black\" d=\"M62.96,-143.93C65.2,-133.6 67.76,-120.12 68.9,-108 70.39,-92.07 70.39,-87.93 68.9,-72 68.13,-63.76 66.7,-54.9 65.15,-46.82\"/>\n",
       "<polygon fill=\"black\" stroke=\"black\" points=\"68.39,-46.17 62.96,-37.07 61.53,-47.57 68.39,-46.17\"/>\n",
       "</g>\n",
       "<!-- Educ&#45;&gt;Salario -->\n",
       "<g id=\"edge3\" class=\"edge\">\n",
       "<title>Educ&#45;&gt;Salario</title>\n",
       "<path fill=\"none\" stroke=\"black\" d=\"M36.92,-72.05C40.19,-64.14 44.17,-54.54 47.84,-45.69\"/>\n",
       "<polygon fill=\"black\" stroke=\"black\" points=\"51.35,-47.37 51.94,-36.79 44.88,-44.69 51.35,-47.37\"/>\n",
       "</g>\n",
       "</g>\n",
       "</svg>\n"
      ],
      "text/plain": [
       "<graphviz.graphs.Digraph at 0x221aa0b3a90>"
      ]
     },
     "execution_count": 4,
     "metadata": {},
     "output_type": "execute_result"
    }
   ],
   "source": [
    "g = gr.Digraph()\n",
    "\n",
    "g.edge(\"Habilidad\", \"Educ\")\n",
    "g.edge(\"Habilidad\", \"Salario\")\n",
    "g.edge(\"Educ\", \"Salario\")\n",
    "g"
   ]
  },
  {
   "cell_type": "markdown",
   "id": "a64e554e",
   "metadata": {},
   "source": [
    "Una forma de evitar esto es controlar los niveles constantes de capacidad al medir el efecto de la `Educación` sobre el `Salario`. Podríamos hacer eso al incluir la `Habilidad` en nuestro modelo de regresión lineal. Sin embargo, no tenemos buenas medidas de habilidad. Lo mejor que tenemos son algunos proxies muy cuestionables, como IQ.\n",
    "\n",
    "Pero no todo está perdido. Aquí es donde las **`variables instrumentales (IV)`** entran en escena. La idea de las IV es encontrar otra variable que cause el tratamiento y solo se correlacione con el resultado a través del tratamiento. Otra forma de decir esto es que este instrumento $Z_i$ no está correlacionado con $Y$, pero está correlacionado con $T$. Esto a veces se denomina `restricción de exclusión (exclusion restriction)`."
   ]
  },
  {
   "cell_type": "code",
   "execution_count": 5,
   "id": "2766ec73",
   "metadata": {},
   "outputs": [
    {
     "data": {
      "image/svg+xml": [
       "<?xml version=\"1.0\" encoding=\"UTF-8\" standalone=\"no\"?>\n",
       "<!DOCTYPE svg PUBLIC \"-//W3C//DTD SVG 1.1//EN\"\n",
       " \"http://www.w3.org/Graphics/SVG/1.1/DTD/svg11.dtd\">\n",
       "<!-- Generated by graphviz version 8.0.3 (20230416.2022)\n",
       " -->\n",
       "<!-- Pages: 1 -->\n",
       "<svg width=\"184pt\" height=\"188pt\"\n",
       " viewBox=\"0.00 0.00 184.29 188.00\" xmlns=\"http://www.w3.org/2000/svg\" xmlns:xlink=\"http://www.w3.org/1999/xlink\">\n",
       "<g id=\"graph0\" class=\"graph\" transform=\"scale(1 1) rotate(0) translate(4 184)\">\n",
       "<polygon fill=\"white\" stroke=\"none\" points=\"-4,4 -4,-184 180.29,-184 180.29,4 -4,4\"/>\n",
       "<!-- Habilidad -->\n",
       "<g id=\"node1\" class=\"node\">\n",
       "<title>Habilidad</title>\n",
       "<ellipse fill=\"none\" stroke=\"black\" cx=\"130.8\" cy=\"-162\" rx=\"45.49\" ry=\"18\"/>\n",
       "<text text-anchor=\"middle\" x=\"130.8\" y=\"-158.3\" font-family=\"Times New Roman,serif\" font-size=\"14.00\">Habilidad</text>\n",
       "</g>\n",
       "<!-- Educ -->\n",
       "<g id=\"node2\" class=\"node\">\n",
       "<title>Educ</title>\n",
       "<ellipse fill=\"none\" stroke=\"black\" cx=\"72.8\" cy=\"-90\" rx=\"29.8\" ry=\"18\"/>\n",
       "<text text-anchor=\"middle\" x=\"72.8\" y=\"-86.3\" font-family=\"Times New Roman,serif\" font-size=\"14.00\">Educ</text>\n",
       "</g>\n",
       "<!-- Habilidad&#45;&gt;Educ -->\n",
       "<g id=\"edge1\" class=\"edge\">\n",
       "<title>Habilidad&#45;&gt;Educ</title>\n",
       "<path fill=\"none\" stroke=\"black\" d=\"M117.05,-144.41C109.77,-135.62 100.69,-124.66 92.65,-114.96\"/>\n",
       "<polygon fill=\"black\" stroke=\"black\" points=\"94.72,-112.98 85.65,-107.51 89.33,-117.44 94.72,-112.98\"/>\n",
       "</g>\n",
       "<!-- Salario -->\n",
       "<g id=\"node3\" class=\"node\">\n",
       "<title>Salario</title>\n",
       "<ellipse fill=\"none\" stroke=\"black\" cx=\"101.8\" cy=\"-18\" rx=\"36\" ry=\"18\"/>\n",
       "<text text-anchor=\"middle\" x=\"101.8\" y=\"-14.3\" font-family=\"Times New Roman,serif\" font-size=\"14.00\">Salario</text>\n",
       "</g>\n",
       "<!-- Habilidad&#45;&gt;Salario -->\n",
       "<g id=\"edge2\" class=\"edge\">\n",
       "<title>Habilidad&#45;&gt;Salario</title>\n",
       "<path fill=\"none\" stroke=\"black\" d=\"M127.24,-143.59C122.3,-119.4 113.31,-75.36 107.44,-46.65\"/>\n",
       "<polygon fill=\"black\" stroke=\"black\" points=\"110.72,-46.21 105.29,-37.11 103.86,-47.61 110.72,-46.21\"/>\n",
       "</g>\n",
       "<!-- Educ&#45;&gt;Salario -->\n",
       "<g id=\"edge3\" class=\"edge\">\n",
       "<title>Educ&#45;&gt;Salario</title>\n",
       "<path fill=\"none\" stroke=\"black\" d=\"M79.82,-72.05C83.09,-64.14 87.07,-54.54 90.74,-45.69\"/>\n",
       "<polygon fill=\"black\" stroke=\"black\" points=\"94.25,-47.37 94.84,-36.79 87.78,-44.69 94.25,-47.37\"/>\n",
       "</g>\n",
       "<!-- IV (Z) -->\n",
       "<g id=\"node4\" class=\"node\">\n",
       "<title>IV (Z)</title>\n",
       "<ellipse fill=\"none\" stroke=\"black\" cx=\"33.8\" cy=\"-162\" rx=\"33.6\" ry=\"18\"/>\n",
       "<text text-anchor=\"middle\" x=\"33.8\" y=\"-158.3\" font-family=\"Times New Roman,serif\" font-size=\"14.00\">IV (Z)</text>\n",
       "</g>\n",
       "<!-- IV (Z)&#45;&gt;Educ -->\n",
       "<g id=\"edge4\" class=\"edge\">\n",
       "<title>IV (Z)&#45;&gt;Educ</title>\n",
       "<path fill=\"none\" stroke=\"black\" d=\"M43.04,-144.41C47.61,-136.22 53.22,-126.14 58.34,-116.95\"/>\n",
       "<polygon fill=\"black\" stroke=\"black\" points=\"61.81,-118.91 63.62,-108.47 55.7,-115.5 61.81,-118.91\"/>\n",
       "</g>\n",
       "</g>\n",
       "</svg>\n"
      ],
      "text/plain": [
       "<graphviz.graphs.Digraph at 0x221aa0b1ed0>"
      ]
     },
     "execution_count": 5,
     "metadata": {},
     "output_type": "execute_result"
    }
   ],
   "source": [
    "g = gr.Digraph()\n",
    "\n",
    "g.edge(\"Habilidad\", \"Educ\")\n",
    "g.edge(\"Habilidad\", \"Salario\")\n",
    "g.edge(\"Educ\", \"Salario\")\n",
    "g.edge(\"IV (Z)\", \"Educ\")\n",
    "g"
   ]
  },
  {
   "cell_type": "markdown",
   "id": "d01bb130",
   "metadata": {},
   "source": [
    "Si tenemos tal variable, podemos recuperar el efecto causal $\\kappa$ con lo que veremos como la fórmula IV. Para hacerlo, pensemos en la ecuación ideal que queremos ejecutar. Usando términos más generales como $T$ para el tratamiento y $W$ para los factores de confusión, esto es lo que queremos:\n",
    "\n",
    "$\n",
    "Y_i = \\beta_0 + \\kappa \\ T_i + \\pmb{\\beta}W_i + u_i\n",
    "$\n",
    "\n",
    "Sin embargo, no tenemos datos sobre $W$, por lo que todo lo que podemos ejecutar es\n",
    "\n",
    "$\n",
    "Y_i = \\beta_0 + \\kappa\\ T_i + v_i\n",
    "$\n",
    "\n",
    "$\n",
    "v_i = \\pmb{\\beta}W_i + u_i\n",
    "$\n",
    "\n",
    "Dado que $W$ es un factor de confusión, $\\mathrm{Cov}(T, v) \\neq 0$. Tenemos una ecuación corta, no larga. En nuestro ejemplo, esto sería decir que la habilidad está correlacionada con la educación. Si este es el caso, ejecutar la regresión corta generaría un estimador sesgado para $\\kappa$ debido a las variables omitidas.\n",
    "\n",
    "¡Ahora, contempla la magia de las IV! \n",
    "\n",
    "Dado que el instrumento $Z$ solo está correlacionado con el resultado a través de T, esto implica que $\\mathrm{Cov}(Z,v) = 0$, de lo contrario, habría un segundo camino de Z a Y a través de W. Con esto en mente, podemos escribir\n",
    "\n",
    "$\n",
    "\\mathrm{Cov}(Z,Y) = \\mathrm{Cov}(Z,\\beta_0 + \\kappa\\ T_i + v_i) = \\kappa \\mathrm{Cov}(Z,T) + \\mathrm{Cov}(Z, v) = \\kappa \\mathrm{Cov}(Z,T)\n",
    "$\n",
    "\n",
    "Dividiendo cada lado por $V(Z_i)$ y reorganizando los términos, obtenemos\n",
    "\n",
    "$\n",
    "\\kappa = \\dfrac{\\mathrm{Cov}(Y_i, Z_i)/V(Z_i)}{\\mathrm{Cov}(T_i, Z_i)/V(Z_i)} = \\dfrac{\\text{Forma reducida}}{\\text{1ra Etapa}} \n",
    "$\n",
    "\n",
    "Observe que tanto el numerador como el denominador son coeficientes de regresión (covarianzas divididas por varianzas). El numerador es el resultado de la regresión de $Y$ sobre $Z$. En otras palabras, es el **\"impacto\" de $Z$ sobre $Y$**. Recuerde que esto no quiere decir que $Z$ cause $Y$, ya que tenemos el requisito de que $Z$ impacte a $Y$ solo a través de $T$. Más bien, solo captura qué tan grande es este efecto de $Z$ en $Y$ a través de $T$. Este numerador es tan famoso que tiene su propio nombre: el `coeficiente de forma reducida`.\n",
    "\n",
    "El denominador también es un coeficiente de regresión. Esta vez, es la regresión de $T$ sobre $Z$. Esta regresión captura cuál es el impacto de $Z$ sobre $T$ y también es tan famosa que se llama el `coeficiente de 1ra etapa`.\n",
    "\n",
    "Otra forma genial de ver esta ecuación es en términos de derivadas parciales. \n",
    "\n",
    "Podemos demostrar que el impacto de $T$ sobre $Y$ es igual al impacto de $Z$ sobre $Y$, escalado por el impacto de $Z$ sobre $T$:\n",
    "\n",
    "$\n",
    "\\kappa = \\dfrac{\\frac{\\partial y}{\\partial z}}{\\frac{\\partial T}{\\partial z}} = \\dfrac{\\partial y}{\\partial z} * \\dfrac{\\partial z}{\\partial T} =  \\dfrac{\\partial y}{\\partial T}\n",
    "$\n",
    "\n",
    "Lo que esto nos muestra es más sutil de lo que la mayoría de la gente aprecia. También es más genial de lo que la mayoría de la gente aprecia. Al escribir IV de esta manera, estamos diciendo, \"mira, es difícil encontrar el impacto de $T$ en $Y$ debido a factores de confusión. Pero puedo encontrar fácilmente el impacto de $Z$ en $Y$, ya que no hay nada que cause $Z$ e $Y$ (exclusión Sin embargo, estoy interesado en el impacto de $T$ en $Y$, no de $Z$ en $Y$. Por lo tanto, estimaré el efecto fácil de $Z$ en $Y$ y **escalaré por el efecto de $Z$ en $T$**, para convertir el efecto a $T$ unidades en lugar de $Z$ unidades\".\n",
    "\n",
    "También podemos ver esto en un caso simplificado donde el instrumento es una variable ficticia. En este caso, el estimador IV se simplifica aún más por la relación entre 2 diferencias de medias.\n",
    "\n",
    "$\n",
    "\\kappa = \\dfrac{E[Y|Z=1]-E[Y|Z=0]}{E[T|Z=1]-E[T|Z=0]}\n",
    "$\n",
    "\n",
    "Esta relación a veces se denomina**Wald Estimator**. Nuevamente, podemos contar la historia IV donde queremos el efecto de $T$ en $Y$, lo cual es difícil de conseguir. Así que nos enfocamos en el efecto de $Z$ sobre $Y$, que es fácil. Por definición, $Z$ solo afecta de $Y$ a $T$, por lo que ahora podemos convertir el impacto de $Z$ en $Y$ en el impacto de $T$ en $Y$. Lo hacemos escalando el efecto de $Z$ en $Y$ por el efecto de $Z$ en $T$.\n",
    "\n",
    "## Trimestre de Nacimiento (QOB) y el Efecto de la Educación en el Salario\n",
    "\n",
    "Hasta ahora, hemos tratado estos instrumentos como una variable mágica $Z$ que tiene la propiedad milagrosa de afectar el resultado únicamente a través del tratamiento. Para ser honesto, los buenos instrumentos son tan difíciles de conseguir que bien podríamos considerarlos milagros. Digamos que no es para los débiles de corazón. Se rumorea que los chicos geniales de la Escuela de Economía de Chicago hablan sobre cómo se les ocurrió este o aquel instrumento en el bar.\n",
    "\n",
    "Aún así, tenemos algunos ejemplos interesantes de instrumentos para hacer las cosas un poco más concretas. Intentaremos nuevamente estimar el efecto de la educación sobre el salario. Para ello, utilizaremos como instrumento $Z$ el trimestre de nacimiento de la persona.\n",
    "\n",
    "Esta idea se aprovecha de la ley de asistencia obligatoria de los Estados Unidos. Por lo general, establecen que un niño debe haber cumplido 6 años antes del 1 de enero del año en que ingresa a la escuela. Por esta razón, los niños que nacen a principios de año ingresarán a la escuela a mayor edad. La ley de asistencia obligatoria también requiere que los estudiantes estén en la escuela hasta que cumplan los 16 años, momento en el cual se les permite legalmente abandonar la escuela. El resultado es que las personas nacidas más tarde en el año tienen, en promedio, más años de educación que las nacidas a principios de año.\n",
    "\n",
    "![img](https://matheusfacure.github.io/python-causality-handbook/_images/qob.png)\n",
    "\n",
    "Si aceptamos que el `trimestre de nacimiento (QOB)` es independiente del factor capacidad, es decir, no confunde el impacto de la `Educación` sobre el `Salario`, podemos usarlo como instrumento. En otras palabras, debemos creer que el trimestre de nacimiento no tiene impacto en el salario, más que a través de su impacto en la educación. \n",
    "\n",
    "Si no crees en la astrología, este es un argumento muy convincente 😂."
   ]
  },
  {
   "cell_type": "code",
   "execution_count": 6,
   "id": "9d590817",
   "metadata": {},
   "outputs": [
    {
     "data": {
      "image/svg+xml": [
       "<?xml version=\"1.0\" encoding=\"UTF-8\" standalone=\"no\"?>\n",
       "<!DOCTYPE svg PUBLIC \"-//W3C//DTD SVG 1.1//EN\"\n",
       " \"http://www.w3.org/Graphics/SVG/1.1/DTD/svg11.dtd\">\n",
       "<!-- Generated by graphviz version 8.0.3 (20230416.2022)\n",
       " -->\n",
       "<!-- Pages: 1 -->\n",
       "<svg width=\"178pt\" height=\"188pt\"\n",
       " viewBox=\"0.00 0.00 178.04 188.00\" xmlns=\"http://www.w3.org/2000/svg\" xmlns:xlink=\"http://www.w3.org/1999/xlink\">\n",
       "<g id=\"graph0\" class=\"graph\" transform=\"scale(1 1) rotate(0) translate(4 184)\">\n",
       "<polygon fill=\"white\" stroke=\"none\" points=\"-4,4 -4,-184 174.04,-184 174.04,4 -4,4\"/>\n",
       "<!-- Habilidad -->\n",
       "<g id=\"node1\" class=\"node\">\n",
       "<title>Habilidad</title>\n",
       "<ellipse fill=\"none\" stroke=\"black\" cx=\"124.55\" cy=\"-162\" rx=\"45.49\" ry=\"18\"/>\n",
       "<text text-anchor=\"middle\" x=\"124.55\" y=\"-158.3\" font-family=\"Times New Roman,serif\" font-size=\"14.00\">Habilidad</text>\n",
       "</g>\n",
       "<!-- Educ -->\n",
       "<g id=\"node2\" class=\"node\">\n",
       "<title>Educ</title>\n",
       "<ellipse fill=\"none\" stroke=\"black\" cx=\"66.55\" cy=\"-90\" rx=\"29.8\" ry=\"18\"/>\n",
       "<text text-anchor=\"middle\" x=\"66.55\" y=\"-86.3\" font-family=\"Times New Roman,serif\" font-size=\"14.00\">Educ</text>\n",
       "</g>\n",
       "<!-- Habilidad&#45;&gt;Educ -->\n",
       "<g id=\"edge1\" class=\"edge\">\n",
       "<title>Habilidad&#45;&gt;Educ</title>\n",
       "<path fill=\"none\" stroke=\"black\" d=\"M110.8,-144.41C103.52,-135.62 94.44,-124.66 86.4,-114.96\"/>\n",
       "<polygon fill=\"black\" stroke=\"black\" points=\"88.47,-112.98 79.4,-107.51 83.08,-117.44 88.47,-112.98\"/>\n",
       "</g>\n",
       "<!-- Salario -->\n",
       "<g id=\"node3\" class=\"node\">\n",
       "<title>Salario</title>\n",
       "<ellipse fill=\"none\" stroke=\"black\" cx=\"95.55\" cy=\"-18\" rx=\"36\" ry=\"18\"/>\n",
       "<text text-anchor=\"middle\" x=\"95.55\" y=\"-14.3\" font-family=\"Times New Roman,serif\" font-size=\"14.00\">Salario</text>\n",
       "</g>\n",
       "<!-- Habilidad&#45;&gt;Salario -->\n",
       "<g id=\"edge2\" class=\"edge\">\n",
       "<title>Habilidad&#45;&gt;Salario</title>\n",
       "<path fill=\"none\" stroke=\"black\" d=\"M120.99,-143.59C116.05,-119.4 107.06,-75.36 101.19,-46.65\"/>\n",
       "<polygon fill=\"black\" stroke=\"black\" points=\"104.47,-46.21 99.04,-37.11 97.61,-47.61 104.47,-46.21\"/>\n",
       "</g>\n",
       "<!-- Educ&#45;&gt;Salario -->\n",
       "<g id=\"edge3\" class=\"edge\">\n",
       "<title>Educ&#45;&gt;Salario</title>\n",
       "<path fill=\"none\" stroke=\"black\" d=\"M73.57,-72.05C76.84,-64.14 80.82,-54.54 84.49,-45.69\"/>\n",
       "<polygon fill=\"black\" stroke=\"black\" points=\"88,-47.37 88.59,-36.79 81.53,-44.69 88,-47.37\"/>\n",
       "</g>\n",
       "<!-- QOB -->\n",
       "<g id=\"node4\" class=\"node\">\n",
       "<title>QOB</title>\n",
       "<ellipse fill=\"none\" stroke=\"black\" cx=\"30.55\" cy=\"-162\" rx=\"30.59\" ry=\"18\"/>\n",
       "<text text-anchor=\"middle\" x=\"30.55\" y=\"-158.3\" font-family=\"Times New Roman,serif\" font-size=\"14.00\">QOB</text>\n",
       "</g>\n",
       "<!-- QOB&#45;&gt;Educ -->\n",
       "<g id=\"edge4\" class=\"edge\">\n",
       "<title>QOB&#45;&gt;Educ</title>\n",
       "<path fill=\"none\" stroke=\"black\" d=\"M39.08,-144.41C43.25,-136.3 48.37,-126.35 53.05,-117.25\"/>\n",
       "<polygon fill=\"black\" stroke=\"black\" points=\"56.62,-118.96 58.08,-108.47 50.39,-115.76 56.62,-118.96\"/>\n",
       "</g>\n",
       "</g>\n",
       "</svg>\n"
      ],
      "text/plain": [
       "<graphviz.graphs.Digraph at 0x221aa0b3fd0>"
      ]
     },
     "execution_count": 6,
     "metadata": {},
     "output_type": "execute_result"
    }
   ],
   "source": [
    "g = gr.Digraph()\n",
    "\n",
    "g.edge(\"Habilidad\", \"Educ\")\n",
    "g.edge(\"Habilidad\", \"Salario\")\n",
    "g.edge(\"Educ\", \"Salario\")\n",
    "g.edge(\"QOB\", \"Educ\")\n",
    "g"
   ]
  },
  {
   "cell_type": "markdown",
   "id": "637a3b20",
   "metadata": {},
   "source": [
    "Para realizar este análisis, podemos utilizar datos de tres censos decenales, los mismos datos utilizados por [Angrist y Krueger](https://pubs.aeaweb.org/doi/pdf/10.1257%2Fjep.15.4.69) en su artículo sobre IV . \n",
    "\n",
    "Este conjunto de datos tiene información sobre salarios logarítmicos, nuestra variable de resultado, y años de escolaridad, nuestra variable de tratamiento. También cuenta con datos de trimestre de nacimiento, nuestro instrumento, y controles adicionales, como año de nacimiento y estado de nacimiento."
   ]
  },
  {
   "cell_type": "code",
   "execution_count": 26,
   "id": "aa04cbab",
   "metadata": {},
   "outputs": [
    {
     "name": "stdout",
     "output_type": "stream",
     "text": [
      "(329509, 5)\n"
     ]
    },
    {
     "data": {
      "text/html": [
       "<div>\n",
       "<style scoped>\n",
       "    .dataframe tbody tr th:only-of-type {\n",
       "        vertical-align: middle;\n",
       "    }\n",
       "\n",
       "    .dataframe tbody tr th {\n",
       "        vertical-align: top;\n",
       "    }\n",
       "\n",
       "    .dataframe thead th {\n",
       "        text-align: right;\n",
       "    }\n",
       "</style>\n",
       "<table border=\"1\" class=\"dataframe\">\n",
       "  <thead>\n",
       "    <tr style=\"text-align: right;\">\n",
       "      <th></th>\n",
       "      <th>log_wage</th>\n",
       "      <th>years_of_schooling</th>\n",
       "      <th>year_of_birth</th>\n",
       "      <th>quarter_of_birth</th>\n",
       "      <th>state_of_birth</th>\n",
       "    </tr>\n",
       "  </thead>\n",
       "  <tbody>\n",
       "    <tr>\n",
       "      <th>0</th>\n",
       "      <td>5.790019</td>\n",
       "      <td>12.0</td>\n",
       "      <td>30.0</td>\n",
       "      <td>1.0</td>\n",
       "      <td>45.0</td>\n",
       "    </tr>\n",
       "    <tr>\n",
       "      <th>1</th>\n",
       "      <td>5.952494</td>\n",
       "      <td>11.0</td>\n",
       "      <td>30.0</td>\n",
       "      <td>1.0</td>\n",
       "      <td>45.0</td>\n",
       "    </tr>\n",
       "    <tr>\n",
       "      <th>2</th>\n",
       "      <td>5.315949</td>\n",
       "      <td>12.0</td>\n",
       "      <td>30.0</td>\n",
       "      <td>1.0</td>\n",
       "      <td>45.0</td>\n",
       "    </tr>\n",
       "    <tr>\n",
       "      <th>3</th>\n",
       "      <td>5.595926</td>\n",
       "      <td>12.0</td>\n",
       "      <td>30.0</td>\n",
       "      <td>1.0</td>\n",
       "      <td>45.0</td>\n",
       "    </tr>\n",
       "    <tr>\n",
       "      <th>4</th>\n",
       "      <td>6.068915</td>\n",
       "      <td>12.0</td>\n",
       "      <td>30.0</td>\n",
       "      <td>1.0</td>\n",
       "      <td>37.0</td>\n",
       "    </tr>\n",
       "  </tbody>\n",
       "</table>\n",
       "</div>"
      ],
      "text/plain": [
       "   log_wage  years_of_schooling  year_of_birth  quarter_of_birth   \n",
       "0  5.790019                12.0           30.0               1.0  \\\n",
       "1  5.952494                11.0           30.0               1.0   \n",
       "2  5.315949                12.0           30.0               1.0   \n",
       "3  5.595926                12.0           30.0               1.0   \n",
       "4  6.068915                12.0           30.0               1.0   \n",
       "\n",
       "   state_of_birth  \n",
       "0            45.0  \n",
       "1            45.0  \n",
       "2            45.0  \n",
       "3            45.0  \n",
       "4            37.0  "
      ]
     },
     "execution_count": 26,
     "metadata": {},
     "output_type": "execute_result"
    }
   ],
   "source": [
    "data = pd.read_csv(\"ak91.csv\")\n",
    "print(data.shape)\n",
    "data.head()"
   ]
  },
  {
   "cell_type": "markdown",
   "id": "c83a8116",
   "metadata": {},
   "source": [
    "## La primera etapa\n",
    "\n",
    "Antes de utilizar el trimestre de nacimiento como instrumento, debemos asegurarnos de que sea válido. Esto implica argumentar a favor de los **dos supuestos de Variables Instrumentales**:\n",
    "\n",
    "1. $\\mathrm{Cov}(Z, T) \\neq 0$. Esto quiere decir que deberíamos tener una primera etapa fuerte, o que el instrumento de hecho impacta la variable de tratamiento.\n",
    "2. $Y \\perp Z | T $. Esta es la restricción de exclusión, que establece que el instrumento Z solo afecta el resultado Y a través del tratamiento T.\n",
    "\n",
    "La primera suposición es afortunadamente verificable. Podemos ver a partir de los datos que $\\mathrm{Cov}(Z, T)$ no es cero. En nuestro ejemplo, si el trimestre de nacimiento es un instrumento como hemos dicho, deberíamos esperar que los individuos nacidos en el último trimestre del año tengan un poco más de tiempo de educación que los nacidos a principios de año. Antes de ejecutar cualquier prueba estadística para verificar esto, representemos nuestros datos y veamos con nuestros propios ojos."
   ]
  },
  {
   "cell_type": "code",
   "execution_count": 8,
   "id": "a015920f",
   "metadata": {},
   "outputs": [],
   "source": [
    "group_data = (data\n",
    "              .groupby([\"year_of_birth\", \"quarter_of_birth\"])\n",
    "              [[\"log_wage\", \"years_of_schooling\"]]\n",
    "              .mean()\n",
    "              .reset_index()\n",
    "              .assign(time_of_birth = lambda d: d[\"year_of_birth\"] + (d[\"quarter_of_birth\"])/4))"
   ]
  },
  {
   "cell_type": "code",
   "execution_count": 9,
   "id": "2146518f",
   "metadata": {},
   "outputs": [
    {
     "data": {
      "text/html": [
       "<div>\n",
       "<style scoped>\n",
       "    .dataframe tbody tr th:only-of-type {\n",
       "        vertical-align: middle;\n",
       "    }\n",
       "\n",
       "    .dataframe tbody tr th {\n",
       "        vertical-align: top;\n",
       "    }\n",
       "\n",
       "    .dataframe thead th {\n",
       "        text-align: right;\n",
       "    }\n",
       "</style>\n",
       "<table border=\"1\" class=\"dataframe\">\n",
       "  <thead>\n",
       "    <tr style=\"text-align: right;\">\n",
       "      <th></th>\n",
       "      <th>year_of_birth</th>\n",
       "      <th>quarter_of_birth</th>\n",
       "      <th>log_wage</th>\n",
       "      <th>years_of_schooling</th>\n",
       "      <th>time_of_birth</th>\n",
       "    </tr>\n",
       "  </thead>\n",
       "  <tbody>\n",
       "    <tr>\n",
       "      <th>0</th>\n",
       "      <td>30.0</td>\n",
       "      <td>1.0</td>\n",
       "      <td>5.889133</td>\n",
       "      <td>12.280405</td>\n",
       "      <td>30.25</td>\n",
       "    </tr>\n",
       "    <tr>\n",
       "      <th>1</th>\n",
       "      <td>30.0</td>\n",
       "      <td>2.0</td>\n",
       "      <td>5.898007</td>\n",
       "      <td>12.428418</td>\n",
       "      <td>30.50</td>\n",
       "    </tr>\n",
       "    <tr>\n",
       "      <th>2</th>\n",
       "      <td>30.0</td>\n",
       "      <td>3.0</td>\n",
       "      <td>5.909365</td>\n",
       "      <td>12.491860</td>\n",
       "      <td>30.75</td>\n",
       "    </tr>\n",
       "    <tr>\n",
       "      <th>3</th>\n",
       "      <td>30.0</td>\n",
       "      <td>4.0</td>\n",
       "      <td>5.914354</td>\n",
       "      <td>12.624675</td>\n",
       "      <td>31.00</td>\n",
       "    </tr>\n",
       "    <tr>\n",
       "      <th>4</th>\n",
       "      <td>31.0</td>\n",
       "      <td>1.0</td>\n",
       "      <td>5.902136</td>\n",
       "      <td>12.540434</td>\n",
       "      <td>31.25</td>\n",
       "    </tr>\n",
       "    <tr>\n",
       "      <th>5</th>\n",
       "      <td>31.0</td>\n",
       "      <td>2.0</td>\n",
       "      <td>5.900508</td>\n",
       "      <td>12.531045</td>\n",
       "      <td>31.50</td>\n",
       "    </tr>\n",
       "    <tr>\n",
       "      <th>6</th>\n",
       "      <td>31.0</td>\n",
       "      <td>3.0</td>\n",
       "      <td>5.911184</td>\n",
       "      <td>12.686717</td>\n",
       "      <td>31.75</td>\n",
       "    </tr>\n",
       "    <tr>\n",
       "      <th>7</th>\n",
       "      <td>31.0</td>\n",
       "      <td>4.0</td>\n",
       "      <td>5.910587</td>\n",
       "      <td>12.612120</td>\n",
       "      <td>32.00</td>\n",
       "    </tr>\n",
       "    <tr>\n",
       "      <th>8</th>\n",
       "      <td>32.0</td>\n",
       "      <td>1.0</td>\n",
       "      <td>5.899809</td>\n",
       "      <td>12.533931</td>\n",
       "      <td>32.25</td>\n",
       "    </tr>\n",
       "    <tr>\n",
       "      <th>9</th>\n",
       "      <td>32.0</td>\n",
       "      <td>2.0</td>\n",
       "      <td>5.900543</td>\n",
       "      <td>12.609599</td>\n",
       "      <td>32.50</td>\n",
       "    </tr>\n",
       "    <tr>\n",
       "      <th>10</th>\n",
       "      <td>32.0</td>\n",
       "      <td>3.0</td>\n",
       "      <td>5.910271</td>\n",
       "      <td>12.660450</td>\n",
       "      <td>32.75</td>\n",
       "    </tr>\n",
       "    <tr>\n",
       "      <th>11</th>\n",
       "      <td>32.0</td>\n",
       "      <td>4.0</td>\n",
       "      <td>5.890553</td>\n",
       "      <td>12.727112</td>\n",
       "      <td>33.00</td>\n",
       "    </tr>\n",
       "    <tr>\n",
       "      <th>12</th>\n",
       "      <td>33.0</td>\n",
       "      <td>1.0</td>\n",
       "      <td>5.891946</td>\n",
       "      <td>12.673190</td>\n",
       "      <td>33.25</td>\n",
       "    </tr>\n",
       "    <tr>\n",
       "      <th>13</th>\n",
       "      <td>33.0</td>\n",
       "      <td>2.0</td>\n",
       "      <td>5.900492</td>\n",
       "      <td>12.634707</td>\n",
       "      <td>33.50</td>\n",
       "    </tr>\n",
       "    <tr>\n",
       "      <th>14</th>\n",
       "      <td>33.0</td>\n",
       "      <td>3.0</td>\n",
       "      <td>5.911503</td>\n",
       "      <td>12.753952</td>\n",
       "      <td>33.75</td>\n",
       "    </tr>\n",
       "    <tr>\n",
       "      <th>15</th>\n",
       "      <td>33.0</td>\n",
       "      <td>4.0</td>\n",
       "      <td>5.902947</td>\n",
       "      <td>12.692267</td>\n",
       "      <td>34.00</td>\n",
       "    </tr>\n",
       "    <tr>\n",
       "      <th>16</th>\n",
       "      <td>34.0</td>\n",
       "      <td>1.0</td>\n",
       "      <td>5.895157</td>\n",
       "      <td>12.647263</td>\n",
       "      <td>34.25</td>\n",
       "    </tr>\n",
       "    <tr>\n",
       "      <th>17</th>\n",
       "      <td>34.0</td>\n",
       "      <td>2.0</td>\n",
       "      <td>5.892411</td>\n",
       "      <td>12.727967</td>\n",
       "      <td>34.50</td>\n",
       "    </tr>\n",
       "    <tr>\n",
       "      <th>18</th>\n",
       "      <td>34.0</td>\n",
       "      <td>3.0</td>\n",
       "      <td>5.906089</td>\n",
       "      <td>12.708048</td>\n",
       "      <td>34.75</td>\n",
       "    </tr>\n",
       "    <tr>\n",
       "      <th>19</th>\n",
       "      <td>34.0</td>\n",
       "      <td>4.0</td>\n",
       "      <td>5.907582</td>\n",
       "      <td>12.797868</td>\n",
       "      <td>35.00</td>\n",
       "    </tr>\n",
       "    <tr>\n",
       "      <th>20</th>\n",
       "      <td>35.0</td>\n",
       "      <td>1.0</td>\n",
       "      <td>5.879843</td>\n",
       "      <td>12.650907</td>\n",
       "      <td>35.25</td>\n",
       "    </tr>\n",
       "    <tr>\n",
       "      <th>21</th>\n",
       "      <td>35.0</td>\n",
       "      <td>2.0</td>\n",
       "      <td>5.886642</td>\n",
       "      <td>12.796926</td>\n",
       "      <td>35.50</td>\n",
       "    </tr>\n",
       "    <tr>\n",
       "      <th>22</th>\n",
       "      <td>35.0</td>\n",
       "      <td>3.0</td>\n",
       "      <td>5.908398</td>\n",
       "      <td>12.861351</td>\n",
       "      <td>35.75</td>\n",
       "    </tr>\n",
       "    <tr>\n",
       "      <th>23</th>\n",
       "      <td>35.0</td>\n",
       "      <td>4.0</td>\n",
       "      <td>5.896256</td>\n",
       "      <td>12.819639</td>\n",
       "      <td>36.00</td>\n",
       "    </tr>\n",
       "    <tr>\n",
       "      <th>24</th>\n",
       "      <td>36.0</td>\n",
       "      <td>1.0</td>\n",
       "      <td>5.884938</td>\n",
       "      <td>12.743042</td>\n",
       "      <td>36.25</td>\n",
       "    </tr>\n",
       "    <tr>\n",
       "      <th>25</th>\n",
       "      <td>36.0</td>\n",
       "      <td>2.0</td>\n",
       "      <td>5.886672</td>\n",
       "      <td>12.811076</td>\n",
       "      <td>36.50</td>\n",
       "    </tr>\n",
       "    <tr>\n",
       "      <th>26</th>\n",
       "      <td>36.0</td>\n",
       "      <td>3.0</td>\n",
       "      <td>5.911828</td>\n",
       "      <td>12.886234</td>\n",
       "      <td>36.75</td>\n",
       "    </tr>\n",
       "    <tr>\n",
       "      <th>27</th>\n",
       "      <td>36.0</td>\n",
       "      <td>4.0</td>\n",
       "      <td>5.909518</td>\n",
       "      <td>12.928015</td>\n",
       "      <td>37.00</td>\n",
       "    </tr>\n",
       "    <tr>\n",
       "      <th>28</th>\n",
       "      <td>37.0</td>\n",
       "      <td>1.0</td>\n",
       "      <td>5.893045</td>\n",
       "      <td>12.832295</td>\n",
       "      <td>37.25</td>\n",
       "    </tr>\n",
       "    <tr>\n",
       "      <th>29</th>\n",
       "      <td>37.0</td>\n",
       "      <td>2.0</td>\n",
       "      <td>5.888092</td>\n",
       "      <td>12.844048</td>\n",
       "      <td>37.50</td>\n",
       "    </tr>\n",
       "    <tr>\n",
       "      <th>30</th>\n",
       "      <td>37.0</td>\n",
       "      <td>3.0</td>\n",
       "      <td>5.906133</td>\n",
       "      <td>12.962172</td>\n",
       "      <td>37.75</td>\n",
       "    </tr>\n",
       "    <tr>\n",
       "      <th>31</th>\n",
       "      <td>37.0</td>\n",
       "      <td>4.0</td>\n",
       "      <td>5.903192</td>\n",
       "      <td>12.970982</td>\n",
       "      <td>38.00</td>\n",
       "    </tr>\n",
       "    <tr>\n",
       "      <th>32</th>\n",
       "      <td>38.0</td>\n",
       "      <td>1.0</td>\n",
       "      <td>5.894380</td>\n",
       "      <td>12.938677</td>\n",
       "      <td>38.25</td>\n",
       "    </tr>\n",
       "    <tr>\n",
       "      <th>33</th>\n",
       "      <td>38.0</td>\n",
       "      <td>2.0</td>\n",
       "      <td>5.904969</td>\n",
       "      <td>13.007663</td>\n",
       "      <td>38.50</td>\n",
       "    </tr>\n",
       "    <tr>\n",
       "      <th>34</th>\n",
       "      <td>38.0</td>\n",
       "      <td>3.0</td>\n",
       "      <td>5.905871</td>\n",
       "      <td>12.986554</td>\n",
       "      <td>38.75</td>\n",
       "    </tr>\n",
       "    <tr>\n",
       "      <th>35</th>\n",
       "      <td>38.0</td>\n",
       "      <td>4.0</td>\n",
       "      <td>5.910037</td>\n",
       "      <td>13.030132</td>\n",
       "      <td>39.00</td>\n",
       "    </tr>\n",
       "    <tr>\n",
       "      <th>36</th>\n",
       "      <td>39.0</td>\n",
       "      <td>1.0</td>\n",
       "      <td>5.886343</td>\n",
       "      <td>13.002989</td>\n",
       "      <td>39.25</td>\n",
       "    </tr>\n",
       "    <tr>\n",
       "      <th>37</th>\n",
       "      <td>39.0</td>\n",
       "      <td>2.0</td>\n",
       "      <td>5.902439</td>\n",
       "      <td>13.013399</td>\n",
       "      <td>39.50</td>\n",
       "    </tr>\n",
       "    <tr>\n",
       "      <th>38</th>\n",
       "      <td>39.0</td>\n",
       "      <td>3.0</td>\n",
       "      <td>5.887899</td>\n",
       "      <td>12.989260</td>\n",
       "      <td>39.75</td>\n",
       "    </tr>\n",
       "    <tr>\n",
       "      <th>39</th>\n",
       "      <td>39.0</td>\n",
       "      <td>4.0</td>\n",
       "      <td>5.905520</td>\n",
       "      <td>13.116529</td>\n",
       "      <td>40.00</td>\n",
       "    </tr>\n",
       "  </tbody>\n",
       "</table>\n",
       "</div>"
      ],
      "text/plain": [
       "    year_of_birth  quarter_of_birth  log_wage  years_of_schooling   \n",
       "0            30.0               1.0  5.889133           12.280405  \\\n",
       "1            30.0               2.0  5.898007           12.428418   \n",
       "2            30.0               3.0  5.909365           12.491860   \n",
       "3            30.0               4.0  5.914354           12.624675   \n",
       "4            31.0               1.0  5.902136           12.540434   \n",
       "5            31.0               2.0  5.900508           12.531045   \n",
       "6            31.0               3.0  5.911184           12.686717   \n",
       "7            31.0               4.0  5.910587           12.612120   \n",
       "8            32.0               1.0  5.899809           12.533931   \n",
       "9            32.0               2.0  5.900543           12.609599   \n",
       "10           32.0               3.0  5.910271           12.660450   \n",
       "11           32.0               4.0  5.890553           12.727112   \n",
       "12           33.0               1.0  5.891946           12.673190   \n",
       "13           33.0               2.0  5.900492           12.634707   \n",
       "14           33.0               3.0  5.911503           12.753952   \n",
       "15           33.0               4.0  5.902947           12.692267   \n",
       "16           34.0               1.0  5.895157           12.647263   \n",
       "17           34.0               2.0  5.892411           12.727967   \n",
       "18           34.0               3.0  5.906089           12.708048   \n",
       "19           34.0               4.0  5.907582           12.797868   \n",
       "20           35.0               1.0  5.879843           12.650907   \n",
       "21           35.0               2.0  5.886642           12.796926   \n",
       "22           35.0               3.0  5.908398           12.861351   \n",
       "23           35.0               4.0  5.896256           12.819639   \n",
       "24           36.0               1.0  5.884938           12.743042   \n",
       "25           36.0               2.0  5.886672           12.811076   \n",
       "26           36.0               3.0  5.911828           12.886234   \n",
       "27           36.0               4.0  5.909518           12.928015   \n",
       "28           37.0               1.0  5.893045           12.832295   \n",
       "29           37.0               2.0  5.888092           12.844048   \n",
       "30           37.0               3.0  5.906133           12.962172   \n",
       "31           37.0               4.0  5.903192           12.970982   \n",
       "32           38.0               1.0  5.894380           12.938677   \n",
       "33           38.0               2.0  5.904969           13.007663   \n",
       "34           38.0               3.0  5.905871           12.986554   \n",
       "35           38.0               4.0  5.910037           13.030132   \n",
       "36           39.0               1.0  5.886343           13.002989   \n",
       "37           39.0               2.0  5.902439           13.013399   \n",
       "38           39.0               3.0  5.887899           12.989260   \n",
       "39           39.0               4.0  5.905520           13.116529   \n",
       "\n",
       "    time_of_birth  \n",
       "0           30.25  \n",
       "1           30.50  \n",
       "2           30.75  \n",
       "3           31.00  \n",
       "4           31.25  \n",
       "5           31.50  \n",
       "6           31.75  \n",
       "7           32.00  \n",
       "8           32.25  \n",
       "9           32.50  \n",
       "10          32.75  \n",
       "11          33.00  \n",
       "12          33.25  \n",
       "13          33.50  \n",
       "14          33.75  \n",
       "15          34.00  \n",
       "16          34.25  \n",
       "17          34.50  \n",
       "18          34.75  \n",
       "19          35.00  \n",
       "20          35.25  \n",
       "21          35.50  \n",
       "22          35.75  \n",
       "23          36.00  \n",
       "24          36.25  \n",
       "25          36.50  \n",
       "26          36.75  \n",
       "27          37.00  \n",
       "28          37.25  \n",
       "29          37.50  \n",
       "30          37.75  \n",
       "31          38.00  \n",
       "32          38.25  \n",
       "33          38.50  \n",
       "34          38.75  \n",
       "35          39.00  \n",
       "36          39.25  \n",
       "37          39.50  \n",
       "38          39.75  \n",
       "39          40.00  "
      ]
     },
     "execution_count": 9,
     "metadata": {},
     "output_type": "execute_result"
    }
   ],
   "source": [
    "group_data"
   ]
  },
  {
   "cell_type": "code",
   "execution_count": 10,
   "id": "1cd21ead",
   "metadata": {},
   "outputs": [
    {
     "data": {
      "image/png": "[encoded data removed]",
      "text/plain": [
       "<Figure size 1500x600 with 1 Axes>"
      ]
     },
     "metadata": {},
     "output_type": "display_data"
    }
   ],
   "source": [
    "plt.figure(figsize=(15,6))\n",
    "plt.plot(group_data[\"time_of_birth\"], group_data[\"years_of_schooling\"], zorder=-1)\n",
    "for q in range(1, 5):\n",
    "    x = group_data.query(f\"quarter_of_birth=={q}\")[\"time_of_birth\"]\n",
    "    y = group_data.query(f\"quarter_of_birth=={q}\")[\"years_of_schooling\"]\n",
    "    plt.scatter(x, y, marker=\"s\", s=200, c=f\"C{q}\")\n",
    "    plt.scatter(x, y, marker=f\"${q}$\", s=100, c=f\"white\")\n",
    "\n",
    "plt.title(\"Años de Educación por Trimestre de Nacimiento (1ra etapa)\")\n",
    "plt.xlabel(\"Año de nacimiento\")\n",
    "plt.ylabel(\"Años de escolaridad\");"
   ]
  },
  {
   "cell_type": "markdown",
   "id": "4de2221a",
   "metadata": {},
   "source": [
    "Sorprendentemente, existe un patrón estacional en los años de escolaridad que sigue al trimestre del año. \n",
    "\n",
    "Visualmente, podemos ver que los nacidos en el primer trimestre del año tienen casi siempre menos educación que los nacidos en el último trimestre (una vez que controlamos por el año de nacimiento, después de todo, los nacidos en años posteriores tienen más educación, en general).\n",
    "\n",
    "Para ser un poco más rigurosos, podemos ejecutar la primera etapa como una regresión lineal. Primero convertiremos el trimestre de nacimiento en variables ficticias:"
   ]
  },
  {
   "cell_type": "code",
   "execution_count": 11,
   "id": "b84c6e75",
   "metadata": {},
   "outputs": [
    {
     "data": {
      "text/html": [
       "<div>\n",
       "<style scoped>\n",
       "    .dataframe tbody tr th:only-of-type {\n",
       "        vertical-align: middle;\n",
       "    }\n",
       "\n",
       "    .dataframe tbody tr th {\n",
       "        vertical-align: top;\n",
       "    }\n",
       "\n",
       "    .dataframe thead th {\n",
       "        text-align: right;\n",
       "    }\n",
       "</style>\n",
       "<table border=\"1\" class=\"dataframe\">\n",
       "  <thead>\n",
       "    <tr style=\"text-align: right;\">\n",
       "      <th></th>\n",
       "      <th>78631</th>\n",
       "      <th>134313</th>\n",
       "      <th>153917</th>\n",
       "      <th>49300</th>\n",
       "      <th>150343</th>\n",
       "    </tr>\n",
       "  </thead>\n",
       "  <tbody>\n",
       "    <tr>\n",
       "      <th>log_wage</th>\n",
       "      <td>6.140589</td>\n",
       "      <td>6.512002</td>\n",
       "      <td>6.175587</td>\n",
       "      <td>6.047781</td>\n",
       "      <td>5.481056</td>\n",
       "    </tr>\n",
       "    <tr>\n",
       "      <th>years_of_schooling</th>\n",
       "      <td>16.000000</td>\n",
       "      <td>16.000000</td>\n",
       "      <td>8.000000</td>\n",
       "      <td>12.000000</td>\n",
       "      <td>15.000000</td>\n",
       "    </tr>\n",
       "    <tr>\n",
       "      <th>year_of_birth</th>\n",
       "      <td>32.000000</td>\n",
       "      <td>34.000000</td>\n",
       "      <td>34.000000</td>\n",
       "      <td>31.000000</td>\n",
       "      <td>34.000000</td>\n",
       "    </tr>\n",
       "    <tr>\n",
       "      <th>quarter_of_birth</th>\n",
       "      <td>2.000000</td>\n",
       "      <td>1.000000</td>\n",
       "      <td>4.000000</td>\n",
       "      <td>3.000000</td>\n",
       "      <td>3.000000</td>\n",
       "    </tr>\n",
       "    <tr>\n",
       "      <th>state_of_birth</th>\n",
       "      <td>42.000000</td>\n",
       "      <td>6.000000</td>\n",
       "      <td>18.000000</td>\n",
       "      <td>36.000000</td>\n",
       "      <td>55.000000</td>\n",
       "    </tr>\n",
       "    <tr>\n",
       "      <th>q1</th>\n",
       "      <td>0.000000</td>\n",
       "      <td>1.000000</td>\n",
       "      <td>0.000000</td>\n",
       "      <td>0.000000</td>\n",
       "      <td>0.000000</td>\n",
       "    </tr>\n",
       "    <tr>\n",
       "      <th>q2</th>\n",
       "      <td>1.000000</td>\n",
       "      <td>0.000000</td>\n",
       "      <td>0.000000</td>\n",
       "      <td>0.000000</td>\n",
       "      <td>0.000000</td>\n",
       "    </tr>\n",
       "    <tr>\n",
       "      <th>q3</th>\n",
       "      <td>0.000000</td>\n",
       "      <td>0.000000</td>\n",
       "      <td>0.000000</td>\n",
       "      <td>1.000000</td>\n",
       "      <td>1.000000</td>\n",
       "    </tr>\n",
       "    <tr>\n",
       "      <th>q4</th>\n",
       "      <td>0.000000</td>\n",
       "      <td>0.000000</td>\n",
       "      <td>1.000000</td>\n",
       "      <td>0.000000</td>\n",
       "      <td>0.000000</td>\n",
       "    </tr>\n",
       "  </tbody>\n",
       "</table>\n",
       "</div>"
      ],
      "text/plain": [
       "                       78631      134313     153917     49300      150343\n",
       "log_wage             6.140589   6.512002   6.175587   6.047781   5.481056\n",
       "years_of_schooling  16.000000  16.000000   8.000000  12.000000  15.000000\n",
       "year_of_birth       32.000000  34.000000  34.000000  31.000000  34.000000\n",
       "quarter_of_birth     2.000000   1.000000   4.000000   3.000000   3.000000\n",
       "state_of_birth      42.000000   6.000000  18.000000  36.000000  55.000000\n",
       "q1                   0.000000   1.000000   0.000000   0.000000   0.000000\n",
       "q2                   1.000000   0.000000   0.000000   0.000000   0.000000\n",
       "q3                   0.000000   0.000000   0.000000   1.000000   1.000000\n",
       "q4                   0.000000   0.000000   1.000000   0.000000   0.000000"
      ]
     },
     "execution_count": 11,
     "metadata": {},
     "output_type": "execute_result"
    }
   ],
   "source": [
    "factor_data = data.assign(**{f\"q{int(q)}\": (data[\"quarter_of_birth\"] == q).astype(int)\n",
    "                             for q in data[\"quarter_of_birth\"].unique()})\n",
    "\n",
    "factor_data.sample(5).T"
   ]
  },
  {
   "cell_type": "markdown",
   "id": "8f4e3f36",
   "metadata": {},
   "source": [
    "Para simplificar, **usemos solo el último trimestre, `q4`, como instrumento** por ahora. Haremos una regresión de `años de escolaridad, el tratamiento`, sobre el `trimestre de nacimiento, el instrumento`. Esto nos mostrará si de hecho el trimestre de nacimiento afecta positivamente el tiempo de educación como vimos en el gráfico anterior. También necesitamos controlar los años de nacimiento aquí y agregaremos el estado de nacimiento como un control adicional."
   ]
  },
  {
   "cell_type": "code",
   "execution_count": 12,
   "id": "d06c8921",
   "metadata": {},
   "outputs": [
    {
     "name": "stdout",
     "output_type": "stream",
     "text": [
      "q4 parameter estimate:,  0.10085809272785082\n",
      "q4 p-value:,  5.464829416629439e-15\n"
     ]
    }
   ],
   "source": [
    "prim_etapa = smf.ols(\"years_of_schooling ~ C(year_of_birth) + C(state_of_birth) + q4\", data=factor_data).fit()\n",
    "\n",
    "print(\"q4 parameter estimate:, \", prim_etapa.params[\"q4\"])\n",
    "print(\"q4 p-value:, \", prim_etapa.pvalues[\"q4\"])"
   ]
  },
  {
   "cell_type": "markdown",
   "id": "c493485b",
   "metadata": {},
   "source": [
    "Parece que los nacidos en el último trimestre del año tienen, en promedio, 0.1 años más de educación que los nacidos en otros trimestres del año. El valor p es cercano a cero. Esto cierra el caso sobre si el trimestre de nacimiento causa más o menos años de escolaridad.\n",
    "\n",
    "## La forma reducida (Reduced Form)\n",
    "\n",
    "Desafortunadamente, no podemos verificar la segunda condición IV ($Y \\perp Z | T $). Sólo podemos argumentar a favor de ella. Podemos expresar nuestra creencia de que el trimestre de nacimiento no influye en las ganancias potenciales. En otras palabras, **la hora de nacimiento de las personas no es un indicador de su capacidad personal ni de ningún otro factor que pueda causar una diferencia en los ingresos, aparte del efecto en la educación**. Una buena manera de hacerlo es decir que el trimestre de nacimiento se asigna al azar cuando pensamos en su impacto en las ganancias. (No es aleatorio. Hay evidencia de que las personas tienden a concebir alrededor del final del verano o alrededor de algún tipo de vacaciones. Pero no puedo pensar en ninguna buena razón por la que este patrón también afecte los ingresos de otra manera que no sea a través de educación).\n",
    "\n",
    "**Habiendo argumentado a favor de la restricción de exclusión, podemos proceder a ejecutar la forma reducida**. La forma reducida tiene como objetivo descubrir cómo el instrumento influye en el resultado. Dado que, por suposición, toda esta influencia se debe al efecto sobre el tratamiento, esto arrojará algo de luz sobre cómo el tratamiento afecta el resultado. Una vez más, evalúemos esto visualmente antes de ponernos serios con la regresión."
   ]
  },
  {
   "cell_type": "code",
   "execution_count": 13,
   "id": "27640484",
   "metadata": {},
   "outputs": [
    {
     "data": {
      "image/png": "[encoded data removed]",
      "text/plain": [
       "<Figure size 1500x600 with 1 Axes>"
      ]
     },
     "metadata": {},
     "output_type": "display_data"
    }
   ],
   "source": [
    "plt.figure(figsize=(15,6))\n",
    "plt.plot(group_data[\"time_of_birth\"], group_data[\"log_wage\"], zorder=-1)\n",
    "for q in range(1, 5):\n",
    "    x = group_data.query(f\"quarter_of_birth=={q}\")[\"time_of_birth\"]\n",
    "    y = group_data.query(f\"quarter_of_birth=={q}\")[\"log_wage\"]\n",
    "    plt.scatter(x, y, marker=\"s\", s=200, c=f\"C{q}\")\n",
    "    plt.scatter(x, y, marker=f\"${q}$\", s=100, c=f\"white\")\n",
    "\n",
    "plt.title(\"Salario Promedio Semanal por Trimestre de Nacimiento (forma reducida)\")\n",
    "plt.xlabel(\"Año de nacimiento\")\n",
    "plt.ylabel(\"Registro de ganancias semanales\");"
   ]
  },
  {
   "cell_type": "markdown",
   "id": "0d6e32d9",
   "metadata": {},
   "source": [
    "Una vez más, podemos ver un patrón estacional en los ingresos por trimestre de nacimiento. Los nacidos más tarde en el año tienen ingresos ligeramente más altos que los nacidos a principios de año. Para probar esta hipótesis, haremos una regresión del `q4` instrumental sobre el logaritmo del salario. También agregaremos los mismos controles adicionales que en la 1ra etapa:"
   ]
  },
  {
   "cell_type": "code",
   "execution_count": 15,
   "id": "cb68e2c1",
   "metadata": {},
   "outputs": [
    {
     "name": "stdout",
     "output_type": "stream",
     "text": [
      "q4 parameter estimate:,  0.00860348426013379\n",
      "q4 p-value:,  0.0014949127183759717\n"
     ]
    }
   ],
   "source": [
    "forma_reducida = smf.ols(\"log_wage ~ C(year_of_birth) + C(state_of_birth) + q4\", data=factor_data).fit()\n",
    "\n",
    "print(\"q4 parameter estimate:, \", forma_reducida.params[\"q4\"])\n",
    "print(\"q4 p-value:, \", forma_reducida.pvalues[\"q4\"])"
   ]
  },
  {
   "cell_type": "markdown",
   "id": "42cfc148",
   "metadata": {},
   "source": [
    "Una vez más, tenemos un resultado significativo. **Los nacidos en el último trimestre del año tienen, en promedio, salarios un 0,8% más altos**. Esta vez, el valor p no está tan cerca de cero como antes, pero sigue siendo bastante significativo, siendo solo 0.0015.\n",
    "\n",
    "## Variables instrumentales A MANO\n",
    "\n",
    "Teniendo tanto nuestra forma reducida como nuestra primera etapa, ahora podemos escalar el efecto de la primera etapa por la forma reducida. Dado que el coeficiente de la primera etapa era algo así como 0.1, esto multiplicará el efecto del coeficiente de forma reducida por casi 10. Esto nos dará nuestra estimación IV imparcial del efecto causal promedio:\n",
    "\n",
    "$\n",
    "\\mathrm{ATE}_{IV} = \\dfrac{\\text{Forma Reducida}}{\\text{1ra Etapa}} \n",
    "$"
   ]
  },
  {
   "cell_type": "code",
   "execution_count": 16,
   "id": "2f9b8a9d",
   "metadata": {},
   "outputs": [
    {
     "data": {
      "text/plain": [
       "0.08530286492080406"
      ]
     },
     "execution_count": 16,
     "metadata": {},
     "output_type": "execute_result"
    }
   ],
   "source": [
    "forma_reducida.params[\"q4\"] / prim_etapa.params[\"q4\"]"
   ]
  },
  {
   "cell_type": "markdown",
   "id": "ea509bbd",
   "metadata": {},
   "source": [
    "Esto significa que deberíamos esperar que cada año escolar adicional aumente los salarios en un 8%.\n",
    "\n",
    "Otra forma de obtener las estimaciones IV es mediante el uso de mínimos cuadrados de 2 etapas, **2SLS** (Personalmente, mi forma preferida). Con este procedimiento, hacemos la primera etapa como antes y luego ejecutamos una segunda etapa donde reemplazamos la variable de tratamiento por los valores ajustados de la primera etapa.\n",
    "\n",
    "$\n",
    "\\mathrm{Educ}_i = \\gamma_0 + \\gamma_1 \\times \\mathrm{q4}_i + \\gamma_2\\times \\mathrm{YOB}_i + \\gamma_3\\times \\mathrm{SOB}_i + v_i\n",
    "$\n",
    "\n",
    "$\n",
    "\\log(\\mathrm{Salario})_i = \\beta_0 + \\beta_1\\times \\mathrm{Educ}_i + \\beta_2\\times \\mathrm{YOB}_i + \\beta_3\\times \\mathrm{SOB}_i + u_i\n",
    "$\n",
    "\n",
    "$\n",
    "\\log(\\mathrm{Salario})_i = \\beta_0 + \\beta_1 [\\gamma_0 + \\gamma_1 \\times \\mathrm{q4}_i + \\gamma_2\\times \\mathrm{YOB}_i + \\gamma_3\\times \\mathrm{SOB}_i + v_i ]  + \\beta_2\\times \\mathrm{YOB}_i + \\beta_3\\times \\mathrm{SOB}_i + u_i\n",
    "$\n",
    "\n",
    "- $YOB$: year_of_birth.\n",
    "- $SOB$: state_of_birth.\n",
    "\n",
    "Una cosa a tener en cuenta es que **cualquier control adicional que agreguemos a la segunda etapa también debe agregarse a la primera etapa al hacer IV**."
   ]
  },
  {
   "cell_type": "code",
   "execution_count": 20,
   "id": "c3d39ace",
   "metadata": {},
   "outputs": [
    {
     "data": {
      "text/plain": [
       "0    10.921066\n",
       "1    10.921066\n",
       "2    10.921066\n",
       "3    10.921066\n",
       "4    11.324498\n",
       "dtype: float64"
      ]
     },
     "execution_count": 20,
     "metadata": {},
     "output_type": "execute_result"
    }
   ],
   "source": [
    "prim_etapa.fittedvalues.head(5)"
   ]
  },
  {
   "cell_type": "code",
   "execution_count": 17,
   "id": "7400f8f3",
   "metadata": {},
   "outputs": [
    {
     "data": {
      "text/plain": [
       "0.08530286492088307"
      ]
     },
     "execution_count": 17,
     "metadata": {},
     "output_type": "execute_result"
    }
   ],
   "source": [
    "iv_a_mano = smf.ols(\"log_wage ~ C(year_of_birth) + C(state_of_birth) + years_of_schooling_fitted\",\n",
    "                     data=factor_data.assign(years_of_schooling_fitted=prim_etapa.fittedvalues)).fit()\n",
    "\n",
    "iv_a_mano.params[\"years_of_schooling_fitted\"]"
   ]
  },
  {
   "cell_type": "markdown",
   "id": "f9911263",
   "metadata": {},
   "source": [
    "Como puede ver, los parámetros son exactamente los mismos. **Esta segunda forma de ver IV puede ser útil por la intuición que da**. En 2SLS, la primera etapa crea una nueva versión del tratamiento que se elimina del sesgo de variable omitida. Luego usamos esta versión purgada del tratamiento, los valores ajustados de la primera etapa, en una regresión lineal.\n",
    "\n",
    "**En la práctica, sin embargo, no hacemos IV a mano**. No porque sea problemático, sino porque los errores estándar que obtenemos de esta segunda etapa están un poco fuera de lugar. En cambio, siempre debemos dejar que la máquina haga el trabajo por nosotros. En Python, podemos usar la biblioteca [modelos lineales](https://bashtage.github.io/linearmodels/) para ejecutar 2SLS de la manera correcta.\n",
    "\n",
    "La fórmula para 2SLS es un poco diferente. Deberíamos agregar la primera etapa entre \\[ \\] dentro de la fórmula. En nuestro caso, agregamos `years_of_schooling ~ q4`. No es necesario agregar controles adicionales a la primera etapa porque la computadora lo hará automáticamente si los incluimos en la segunda etapa. Por esta razón, agregamos `year_of_birth` y `state_of_birth` fuera de la fórmula de la 1ra etapa."
   ]
  },
  {
   "cell_type": "code",
   "execution_count": 22,
   "id": "774b3916",
   "metadata": {},
   "outputs": [
    {
     "name": "stdout",
     "output_type": "stream",
     "text": [
      "Parameter: 0.08530286491388055\n",
      "SE (Error Estándar): 0.025540812817139477\n",
      "95 CI: [0.03524287 0.13536286]\n",
      "P-value: 0.0008381914682134006\n"
     ]
    }
   ],
   "source": [
    "def parse(model, exog=\"years_of_schooling\"):\n",
    "    param = model.params[exog]\n",
    "    se = model.std_errors[exog]\n",
    "    p_val = model.pvalues[exog]\n",
    "    print(f\"Parameter: {param}\")\n",
    "    print(f\"SE (Error Estándar): {se}\")\n",
    "    print(f\"95 CI: {(-1.96*se,1.96*se) + param}\")\n",
    "    print(f\"P-value: {p_val}\")\n",
    "    \n",
    "formula = 'log_wage ~ 1 + C(year_of_birth) + C(state_of_birth) + [years_of_schooling ~ q4]'\n",
    "iv2sls = IV2SLS.from_formula(formula, factor_data).fit()\n",
    "parse(iv2sls)"
   ]
  },
  {
   "cell_type": "markdown",
   "id": "2259bdd4",
   "metadata": {},
   "source": [
    "Una vez más, podemos ver que el parámetro es exactamente el mismo que los que teníamos antes. El beneficio adicional es que ahora tenemos errores estándar válidos. Con esto en la mano, podemos decir que esperamos que 1 año adicional de educación aumente los salarios en un 8,5%, en promedio.\n",
    "\n",
    "## Múltiples instrumentos\n",
    "\n",
    "Otra ventaja de usar las computadoras para ejecutar 2SLS es que es fácil agregar múltiples instrumentos. En nuestro ejemplo, utilizaremos dummies de todos los trimestres de nacimiento como instrumentos para los años de escolaridad."
   ]
  },
  {
   "cell_type": "code",
   "execution_count": 23,
   "id": "30dcf2ef",
   "metadata": {},
   "outputs": [
    {
     "name": "stdout",
     "output_type": "stream",
     "text": [
      "Parameter: 0.10769370488676655\n",
      "SE (Error Estándar): 0.01955714901058268\n",
      "95 CI: [0.06936169 0.14602572]\n",
      "P-value: 3.657974678716869e-08\n"
     ]
    }
   ],
   "source": [
    "formula = 'log_wage ~ 1 + C(year_of_birth) + C(state_of_birth) + [years_of_schooling ~ q1+q2+q3]'\n",
    "iv_many_zs = IV2SLS.from_formula(formula, factor_data).fit()\n",
    "parse(iv_many_zs)"
   ]
  },
  {
   "cell_type": "markdown",
   "id": "84e55262",
   "metadata": {},
   "source": [
    "Con las 3 variables ficticias, el rendimiento estimado de la educación ahora es 0.1, lo que significa que deberíamos esperar un aumento promedio del 10% en los ingresos por cada año adicional de educación. Comparemos esto con la estimación OLS tradicional. Para hacer eso, podemos usar 2SLS nuevamente, pero ahora sin la primera etapa."
   ]
  },
  {
   "cell_type": "code",
   "execution_count": 25,
   "id": "b543367d",
   "metadata": {},
   "outputs": [
    {
     "data": {
      "text/html": [
       "<div>\n",
       "<style scoped>\n",
       "    .dataframe tbody tr th:only-of-type {\n",
       "        vertical-align: middle;\n",
       "    }\n",
       "\n",
       "    .dataframe tbody tr th {\n",
       "        vertical-align: top;\n",
       "    }\n",
       "\n",
       "    .dataframe thead th {\n",
       "        text-align: right;\n",
       "    }\n",
       "</style>\n",
       "<table border=\"1\" class=\"dataframe\">\n",
       "  <thead>\n",
       "    <tr style=\"text-align: right;\">\n",
       "      <th></th>\n",
       "      <th>log_wage</th>\n",
       "    </tr>\n",
       "    <tr>\n",
       "      <th>time_of_birth</th>\n",
       "      <th></th>\n",
       "    </tr>\n",
       "  </thead>\n",
       "  <tbody>\n",
       "    <tr>\n",
       "      <th>2031-01-01</th>\n",
       "      <td>5.914354</td>\n",
       "    </tr>\n",
       "    <tr>\n",
       "      <th>2032-01-01</th>\n",
       "      <td>5.910587</td>\n",
       "    </tr>\n",
       "    <tr>\n",
       "      <th>2033-01-01</th>\n",
       "      <td>5.890553</td>\n",
       "    </tr>\n",
       "    <tr>\n",
       "      <th>2034-01-01</th>\n",
       "      <td>5.902947</td>\n",
       "    </tr>\n",
       "    <tr>\n",
       "      <th>2035-01-01</th>\n",
       "      <td>5.907582</td>\n",
       "    </tr>\n",
       "    <tr>\n",
       "      <th>2036-01-01</th>\n",
       "      <td>5.896256</td>\n",
       "    </tr>\n",
       "    <tr>\n",
       "      <th>2037-01-01</th>\n",
       "      <td>5.909518</td>\n",
       "    </tr>\n",
       "    <tr>\n",
       "      <th>2038-01-01</th>\n",
       "      <td>5.903192</td>\n",
       "    </tr>\n",
       "    <tr>\n",
       "      <th>2039-01-01</th>\n",
       "      <td>5.910037</td>\n",
       "    </tr>\n",
       "    <tr>\n",
       "      <th>2040-01-01</th>\n",
       "      <td>5.905520</td>\n",
       "    </tr>\n",
       "  </tbody>\n",
       "</table>\n",
       "</div>"
      ],
      "text/plain": [
       "               log_wage\n",
       "time_of_birth          \n",
       "2031-01-01     5.914354\n",
       "2032-01-01     5.910587\n",
       "2033-01-01     5.890553\n",
       "2034-01-01     5.902947\n",
       "2035-01-01     5.907582\n",
       "2036-01-01     5.896256\n",
       "2037-01-01     5.909518\n",
       "2038-01-01     5.903192\n",
       "2039-01-01     5.910037\n",
       "2040-01-01     5.905520"
      ]
     },
     "execution_count": 25,
     "metadata": {},
     "output_type": "execute_result"
    }
   ],
   "source": [
    "data"
   ]
  },
  {
   "cell_type": "code",
   "execution_count": 27,
   "id": "c556125c",
   "metadata": {},
   "outputs": [
    {
     "name": "stdout",
     "output_type": "stream",
     "text": [
      "Parameter: 0.06732572817658333\n",
      "SE (Error Estándar): 0.00038839984390486867\n",
      "95 CI: [0.06656446 0.06808699]\n",
      "P-value: 0.0\n"
     ]
    }
   ],
   "source": [
    "formula = \"log_wage ~ years_of_schooling + C(state_of_birth) + C(year_of_birth) + C(quarter_of_birth)\"\n",
    "ols = IV2SLS.from_formula(formula, data=data).fit()\n",
    "parse(ols)"
   ]
  },
  {
   "cell_type": "markdown",
   "id": "14b26df8",
   "metadata": {},
   "source": [
    "Se estima que el rendimiento de la educación es menor con OLS que con 2SLS. Sin embargo, esto sugiere que OVB (Omitted Variable Bias) podría no ser tan fuerte como al principio. Además, observe los intervalos de confianza. 2SLS tiene un IC mucho más amplio que la estimación OLS. Exploremos esto más a fondo\n",
    "\n",
    "## Debilidad de los instrumentos\n",
    "\n",
    "Cuando se trata de IV, debemos recordar que estamos estimando el ATE indirectamente. Nuestras estimaciones dependen tanto de la primera como de la segunda etapa. Si el impacto del tratamiento en el resultado es realmente fuerte, la segunda etapa también lo será. Sin embargo, no importa cuán fuerte sea la segunda etapa si tenemos una primera etapa débil. **Una primera etapa débil significa que el instrumento tiene solo una correlación muy pequeña con el tratamiento**. Por lo tanto, no podemos aprender mucho sobre el tratamiento del instrumento.\n",
    "\n",
    "Las fórmulas para los errores estándar IV son un poco complejas y no tan intuitivas, por lo que intentaremos algo más para resolver este problema. Simularemos datos en los que tenemos un tratamiento T con efecto 2.0 en el resultado $Y$, un factor de confusión no observado $U$ y un control adicional $X$. También simularemos varios instrumentos con diferentes intensidades en la primera etapa.\n",
    "\n",
    "$\n",
    "X \\sim N(0, 2^2)\\\\\n",
    "U \\sim N(0, 2^2)\\\\\n",
    "T \\sim N(1+0.5U, 5^2)\\\\\n",
    "Y \\sim N(2+ X - 0.5U + 2T, 5^2)\\\\\n",
    "Z \\sim N(T, \\sigma^2) \\text{ for }\\sigma^2 \\text{ in 0.1 to 100}\n",
    "$"
   ]
  },
  {
   "cell_type": "code",
   "execution_count": 28,
   "id": "cbf5e103",
   "metadata": {},
   "outputs": [
    {
     "data": {
      "text/html": [
       "<div>\n",
       "<style scoped>\n",
       "    .dataframe tbody tr th:only-of-type {\n",
       "        vertical-align: middle;\n",
       "    }\n",
       "\n",
       "    .dataframe tbody tr th {\n",
       "        vertical-align: top;\n",
       "    }\n",
       "\n",
       "    .dataframe thead th {\n",
       "        text-align: right;\n",
       "    }\n",
       "</style>\n",
       "<table border=\"1\" class=\"dataframe\">\n",
       "  <thead>\n",
       "    <tr style=\"text-align: right;\">\n",
       "      <th></th>\n",
       "      <th>U</th>\n",
       "      <th>T</th>\n",
       "      <th>...</th>\n",
       "      <th>Z_48</th>\n",
       "      <th>Z_49</th>\n",
       "    </tr>\n",
       "  </thead>\n",
       "  <tbody>\n",
       "    <tr>\n",
       "      <th>0</th>\n",
       "      <td>2.696148</td>\n",
       "      <td>8.056988</td>\n",
       "      <td>...</td>\n",
       "      <td>-117.798705</td>\n",
       "      <td>-13.485292</td>\n",
       "    </tr>\n",
       "    <tr>\n",
       "      <th>1</th>\n",
       "      <td>2.570240</td>\n",
       "      <td>0.245067</td>\n",
       "      <td>...</td>\n",
       "      <td>-209.727577</td>\n",
       "      <td>-70.792948</td>\n",
       "    </tr>\n",
       "    <tr>\n",
       "      <th>2</th>\n",
       "      <td>0.664741</td>\n",
       "      <td>5.597510</td>\n",
       "      <td>...</td>\n",
       "      <td>60.562232</td>\n",
       "      <td>47.619414</td>\n",
       "    </tr>\n",
       "    <tr>\n",
       "      <th>3</th>\n",
       "      <td>1.037725</td>\n",
       "      <td>0.493532</td>\n",
       "      <td>...</td>\n",
       "      <td>78.136513</td>\n",
       "      <td>-108.322304</td>\n",
       "    </tr>\n",
       "    <tr>\n",
       "      <th>4</th>\n",
       "      <td>-2.590591</td>\n",
       "      <td>-6.263014</td>\n",
       "      <td>...</td>\n",
       "      <td>78.776566</td>\n",
       "      <td>-80.547214</td>\n",
       "    </tr>\n",
       "  </tbody>\n",
       "</table>\n",
       "<p>5 rows × 53 columns</p>\n",
       "</div>"
      ],
      "text/plain": [
       "          U         T  ...        Z_48        Z_49\n",
       "0  2.696148  8.056988  ... -117.798705  -13.485292\n",
       "1  2.570240  0.245067  ... -209.727577  -70.792948\n",
       "2  0.664741  5.597510  ...   60.562232   47.619414\n",
       "3  1.037725  0.493532  ...   78.136513 -108.322304\n",
       "4 -2.590591 -6.263014  ...   78.776566  -80.547214\n",
       "\n",
       "[5 rows x 53 columns]"
      ]
     },
     "execution_count": 28,
     "metadata": {},
     "output_type": "execute_result"
    }
   ],
   "source": [
    "np.random.seed(12)\n",
    "n = 10000\n",
    "\n",
    "X = np.random.normal(0, 2, n) # variable observable\n",
    "U = np.random.normal(0, 2, n) # variable no observable (omitida)\n",
    "T = np.random.normal(1 + 0.5*U, 5, n) # treatment\n",
    "Y = np.random.normal(2 + X - 0.5*U + 2*T, 5, n) # outcome\n",
    "\n",
    "stddevs = np.linspace(0.1, 100, 50)\n",
    "Zs = {f\"Z_{z}\": np.random.normal(T, s, n) for z, s in enumerate(stddevs)} # instrumentos con \\mathrm{Cov}(Z, T) decrecientes\n",
    "\n",
    "sim_data = pd.DataFrame(dict(U=U, T=T, Y=Y)).assign(**Zs)\n",
    "\n",
    "sim_data.head()"
   ]
  },
  {
   "cell_type": "markdown",
   "id": "3f4d3215",
   "metadata": {},
   "source": [
    "Solo para verificar dos veces, podemos ver que la correlación entre $Z$ y $T$ está disminuyendo."
   ]
  },
  {
   "cell_type": "code",
   "execution_count": 29,
   "id": "d91c06cf",
   "metadata": {},
   "outputs": [
    {
     "data": {
      "text/plain": [
       "Z_0    0.999807\n",
       "Z_1    0.919713\n",
       "Z_2    0.773434\n",
       "Z_3    0.634614\n",
       "Z_4    0.523719\n",
       "Z_5    0.438555\n",
       "Z_6    0.388094\n",
       "Z_7    0.335019\n",
       "Z_8    0.297434\n",
       "Z_9    0.287699\n",
       "Name: T, dtype: float64"
      ]
     },
     "execution_count": 29,
     "metadata": {},
     "output_type": "execute_result"
    }
   ],
   "source": [
    "corr = (sim_data.corr()[\"T\"]\n",
    "        [lambda d: d.index.str.startswith(\"Z\")])\n",
    "\n",
    "corr.head(10)"
   ]
  },
  {
   "cell_type": "markdown",
   "id": "f18c6db6",
   "metadata": {},
   "source": [
    "Ahora, ejecutaremos un modelo IV por instrumento que tengamos y recopilaremos tanto la estimación de ATE como el error estándar."
   ]
  },
  {
   "cell_type": "code",
   "execution_count": 30,
   "id": "325b5086",
   "metadata": {},
   "outputs": [],
   "source": [
    "se = []\n",
    "ate = []\n",
    "for z in range(len(Zs)):\n",
    "    formula = f'Y ~ 1 + X + [T ~ Z_{z}]'\n",
    "    iv = IV2SLS.from_formula(formula, sim_data).fit()\n",
    "    se.append(iv.std_errors[\"T\"])\n",
    "    ate.append(iv.params[\"T\"])"
   ]
  },
  {
   "cell_type": "code",
   "execution_count": 31,
   "id": "101413a5",
   "metadata": {},
   "outputs": [
    {
     "data": {
      "image/png": "[encoded data removed]",
      "text/plain": [
       "<Figure size 640x480 with 1 Axes>"
      ]
     },
     "metadata": {},
     "output_type": "display_data"
    }
   ],
   "source": [
    "plot_data = pd.DataFrame(dict(se=se, ate=ate, corr=corr)).sort_values(by=\"corr\")\n",
    "\n",
    "plt.scatter(plot_data[\"corr\"], plot_data[\"se\"])\n",
    "plt.xlabel(\"Corr(Z, T)\")\n",
    "plt.ylabel(\"Error estándar de la IV\");\n",
    "plt.title(\"Varianza de las Estimaciones IV por Fuerza de la 1ra Etapa\");"
   ]
  },
  {
   "cell_type": "code",
   "execution_count": 32,
   "id": "9ea8e532",
   "metadata": {},
   "outputs": [
    {
     "data": {
      "image/png": "[encoded data removed]",
      "text/plain": [
       "<Figure size 640x480 with 1 Axes>"
      ]
     },
     "metadata": {},
     "output_type": "display_data"
    }
   ],
   "source": [
    "plt.scatter(plot_data[\"corr\"], plot_data[\"ate\"])\n",
    "plt.fill_between(plot_data[\"corr\"],\n",
    "                 plot_data[\"ate\"]+1.96*plot_data[\"se\"],\n",
    "                 plot_data[\"ate\"]-1.96*plot_data[\"se\"], alpha=.5)\n",
    "plt.xlabel(\"Corr(Z, T)\")\n",
    "plt.ylabel(\"$\\hat{ATE}$\");\n",
    "plt.title(\"Estimaciones ATE de la IV por Fuerza 1ª Etapa\");"
   ]
  },
  {
   "cell_type": "markdown",
   "id": "83219393",
   "metadata": {},
   "source": [
    "Como podemos ver en los gráficos anteriores, las estimaciones varían enormemente cuando la correlación entre $T$ y $Z$ es débil. Esto se debe a que el SE también aumenta mucho cuando la correlación es baja.\n",
    "\n",
    "¡Otra cosa a tener en cuenta es que **2SLS está sesgado**! Incluso con una alta correlación, la estimación del parámetro aún no alcanza el verdadero ATE de 2.0. ¡En realidad, 2.0 ni siquiera está en el IC del 95%! 2SLS solo es consistente, lo que significa que se acerca al verdadero valor del parámetro si el tamaño de la muestra es lo suficientemente grande. Sin embargo, no podemos saber qué tan grande es lo suficientemente grande. Solo podemos apegarnos a algunas reglas generales para entender cómo se comporta este sesgo:\n",
    "\n",
    "1. 2SLS está sesgado hacia OLS. Esto significa que si OLS tiene un sesgo negativo/positivo, 2SLS también lo tendrá. La ventaja de 2SLS es que es al menos consistente, donde OLS no lo es, en el caso de variables omitidas. En el ejemplo anterior, nuestra U no observada impacta negativamente en el resultado, pero se correlaciona positivamente con el tratamiento, lo que resultará en un sesgo negativo. Es por eso que estamos viendo la estimación de ATE por debajo del valor real (sesgo negativo).\n",
    "\n",
    "2. El sesgo aumentará con la cantidad de instrumentos que agreguemos. Si agregamos demasiados instrumentos, 2SLS se vuelve cada vez más como OLS.\n",
    "\n",
    "Además de saber cómo se comporta este sesgo, un consejo final es evitar algunos **errores comunes al hacer IV**:\n",
    "\n",
    "1. Haciendo IV a mano. Como hemos visto, IV a mano dará como resultado errores estándar incorrectos, incluso si las estimaciones de los parámetros son correctas. El SE no estará completamente apagado. Aún así, ¿por qué hacerlo si puede usar software y obtener el SE correcto?\n",
    "\n",
    "2. Usar cualquier cosa que no sea OLS en la primera etapa. Muchos científicos de datos se encuentran con IV y piensan que pueden hacerlo mejor. Por ejemplo, ven un tratamiento ficticio y piensan en reemplazar la primera etapa por una regresión logística, después de todo, están prediciendo una variable ficticia, ¿no? El problema es que esto es simplemente incorrecto. La consistencia de IV se basa en una propiedad que solo OLS puede dar, que es la ortogonalidad de los residuos, por lo que cualquier cosa diferente a OLS en la primera etapa producirá algo sesgado. (OBS: hay algunas técnicas modernas que usan Machine Learning para IV, pero sus resultados han sido, en el mejor de los casos, cuestionables).\n",
    "\n",
    "## Ideas claves\n",
    "\n",
    "Nos hemos tomado un tiempo aquí para comprender cómo podemos evitar el sesgo de variable omitida si tenemos una variable de instrumento. Un instrumento es una variable que se correlaciona con el tratamiento (tiene una primera etapa), pero solo afecta el resultado a través del tratamiento (restricción de exclusión). Vimos un ejemplo de un instrumento con trimestre de nacimiento para estimar el efecto de la educación sobre el ingreso.\n",
    "\n",
    "Luego profundizamos en la mecánica de estimar el efecto causal con IV, es decir, usando 2SLS. También hemos aprendido que IV no es una panacea. Puede ser bastante problemático cuando tenemos una primera etapa débil. Además, aunque consistente, 2SLS sigue siendo un método sesgado para estimar el efecto causal."
   ]
  },
  {
   "cell_type": "markdown",
   "id": "a70991fe",
   "metadata": {},
   "source": [
    "# Ejercicio extra:\n",
    "\n",
    "Supongamos que queremos determinar el efecto de tomar lecciones de pádel en el rendimiento deportivo de un jugador de pádel. La dificultad en esta situación es que los jugadores que eligen tomar lecciones de pádel también pueden ser los que naturalmente tienen más talento o habilidad para el deporte. Entonces, simplemente comparar los resultados de los que toman lecciones con los que no, puede dar lugar a sesgos en la estimación del verdadero efecto causal.\n",
    "\n",
    "Para resolver este problema, podríamos usar una variable instrumental (VI) que afecte la probabilidad de tomar lecciones de pádel, pero que no tenga un efecto directo sobre el rendimiento deportivo. \n",
    "\n",
    "Una posible VI podría ser la distancia a la cancha de pádel más cercana. Si una persona vive cerca de una cancha, es más probable que tome lecciones de pádel que si vive lejos de una cancha, ya que el acceso a la cancha es más fácil. Sin embargo, la distancia a la cancha de pádel no debería tener un efecto directo en el rendimiento deportivo, por lo que no hay un sesgo de selección al usarla como VI.\n",
    "\n",
    "## Datos:"
   ]
  },
  {
   "cell_type": "code",
   "execution_count": 83,
   "id": "19dc2321",
   "metadata": {},
   "outputs": [],
   "source": [
    "import pandas as pd\n",
    "import numpy as np\n",
    "import statsmodels.api as sm\n",
    "\n",
    "# Crear un dataframe con las variables\n",
    "df = pd.DataFrame({'lecciones': [0, 1, 0, 1, 0, 1, 0, 1, 1, 1],\n",
    "                   'rendimiento': [50, 65, 45, 70, 55, 80, 60, 75, 70, 85],\n",
    "                   'edad': [30, 25, 35, 27, 32, 28, 31, 26, 29, 33],\n",
    "                   'distancia': [1, 2, 3, 4, 5, 1, 2, 3, 4, 5]})\n",
    "\n",
    "# Definir las variables del modelo\n",
    "exog = df['edad']\n",
    "endog = df['lecciones']\n",
    "dependent = df['rendimiento']\n",
    "instruments = df['distancia']"
   ]
  },
  {
   "cell_type": "markdown",
   "id": "e2d6b7cd",
   "metadata": {},
   "source": [
    "## Pregunta 1: ¿Cómo sería el Direct Acyclic Graph de ese ejemplo?"
   ]
  },
  {
   "cell_type": "code",
   "execution_count": null,
   "id": "bcc07fa8",
   "metadata": {},
   "outputs": [],
   "source": [
    "# Respuesta:"
   ]
  },
  {
   "cell_type": "code",
   "execution_count": 85,
   "id": "b3b5f2d9",
   "metadata": {},
   "outputs": [
    {
     "data": {
      "image/svg+xml": [
       "<?xml version=\"1.0\" encoding=\"UTF-8\" standalone=\"no\"?>\n",
       "<!DOCTYPE svg PUBLIC \"-//W3C//DTD SVG 1.1//EN\"\n",
       " \"http://www.w3.org/Graphics/SVG/1.1/DTD/svg11.dtd\">\n",
       "<!-- Generated by graphviz version 8.0.3 (20230416.2022)\n",
       " -->\n",
       "<!-- Pages: 1 -->\n",
       "<svg width=\"174pt\" height=\"188pt\"\n",
       " viewBox=\"0.00 0.00 174.09 188.00\" xmlns=\"http://www.w3.org/2000/svg\" xmlns:xlink=\"http://www.w3.org/1999/xlink\">\n",
       "<g id=\"graph0\" class=\"graph\" transform=\"scale(1 1) rotate(0) translate(4 184)\">\n",
       "<polygon fill=\"white\" stroke=\"none\" points=\"-4,4 -4,-184 170.09,-184 170.09,4 -4,4\"/>\n",
       "<!-- Edad -->\n",
       "<g id=\"node1\" class=\"node\">\n",
       "<title>Edad</title>\n",
       "<ellipse fill=\"none\" stroke=\"black\" cx=\"136.2\" cy=\"-162\" rx=\"29.8\" ry=\"18\"/>\n",
       "<text text-anchor=\"middle\" x=\"136.2\" y=\"-158.3\" font-family=\"Times New Roman,serif\" font-size=\"14.00\">Edad</text>\n",
       "</g>\n",
       "<!-- Lecciones -->\n",
       "<g id=\"node2\" class=\"node\">\n",
       "<title>Lecciones</title>\n",
       "<ellipse fill=\"none\" stroke=\"black\" cx=\"60.2\" cy=\"-90\" rx=\"48.19\" ry=\"18\"/>\n",
       "<text text-anchor=\"middle\" x=\"60.2\" y=\"-86.3\" font-family=\"Times New Roman,serif\" font-size=\"14.00\">Lecciones</text>\n",
       "</g>\n",
       "<!-- Edad&#45;&gt;Lecciones -->\n",
       "<g id=\"edge1\" class=\"edge\">\n",
       "<title>Edad&#45;&gt;Lecciones</title>\n",
       "<path fill=\"none\" stroke=\"black\" d=\"M120.45,-146.5C110.44,-137.28 97.26,-125.14 85.77,-114.56\"/>\n",
       "<polygon fill=\"black\" stroke=\"black\" points=\"88.51,-112.4 78.78,-108.2 83.77,-117.55 88.51,-112.4\"/>\n",
       "</g>\n",
       "<!-- Rendimiento -->\n",
       "<g id=\"node3\" class=\"node\">\n",
       "<title>Rendimiento</title>\n",
       "<ellipse fill=\"none\" stroke=\"black\" cx=\"98.2\" cy=\"-18\" rx=\"56.59\" ry=\"18\"/>\n",
       "<text text-anchor=\"middle\" x=\"98.2\" y=\"-14.3\" font-family=\"Times New Roman,serif\" font-size=\"14.00\">Rendimiento</text>\n",
       "</g>\n",
       "<!-- Edad&#45;&gt;Rendimiento -->\n",
       "<g id=\"edge2\" class=\"edge\">\n",
       "<title>Edad&#45;&gt;Rendimiento</title>\n",
       "<path fill=\"none\" stroke=\"black\" d=\"M133.23,-143.77C129.95,-125.72 124.2,-96.62 117.2,-72 114.78,-63.5 111.7,-54.4 108.73,-46.17\"/>\n",
       "<polygon fill=\"black\" stroke=\"black\" points=\"111.71,-45.15 104.95,-37 105.15,-47.59 111.71,-45.15\"/>\n",
       "</g>\n",
       "<!-- Lecciones&#45;&gt;Rendimiento -->\n",
       "<g id=\"edge3\" class=\"edge\">\n",
       "<title>Lecciones&#45;&gt;Rendimiento</title>\n",
       "<path fill=\"none\" stroke=\"black\" d=\"M69.39,-72.05C73.74,-64.06 79.02,-54.33 83.86,-45.4\"/>\n",
       "<polygon fill=\"black\" stroke=\"black\" points=\"87.39,-47.25 89.08,-36.79 81.24,-43.91 87.39,-47.25\"/>\n",
       "</g>\n",
       "<!-- Distancia -->\n",
       "<g id=\"node4\" class=\"node\">\n",
       "<title>Distancia</title>\n",
       "<ellipse fill=\"none\" stroke=\"black\" cx=\"44.2\" cy=\"-162\" rx=\"44.39\" ry=\"18\"/>\n",
       "<text text-anchor=\"middle\" x=\"44.2\" y=\"-158.3\" font-family=\"Times New Roman,serif\" font-size=\"14.00\">Distancia</text>\n",
       "</g>\n",
       "<!-- Distancia&#45;&gt;Lecciones -->\n",
       "<g id=\"edge4\" class=\"edge\">\n",
       "<title>Distancia&#45;&gt;Lecciones</title>\n",
       "<path fill=\"none\" stroke=\"black\" d=\"M48.15,-143.7C49.88,-136.15 51.94,-127.12 53.87,-118.68\"/>\n",
       "<polygon fill=\"black\" stroke=\"black\" points=\"57.47,-119.63 56.29,-109.1 50.65,-118.07 57.47,-119.63\"/>\n",
       "</g>\n",
       "</g>\n",
       "</svg>\n"
      ],
      "text/plain": [
       "<graphviz.graphs.Digraph at 0x221eb4c9e10>"
      ]
     },
     "execution_count": 85,
     "metadata": {},
     "output_type": "execute_result"
    }
   ],
   "source": [
    "g = gr.Digraph()\n",
    "\n",
    "g.edge(\"Edad\", \"Lecciones\")\n",
    "g.edge(\"Edad\", \"Rendimiento\")\n",
    "g.edge(\"Lecciones\", \"Rendimiento\")\n",
    "g.edge(\"Distancia\", \"Lecciones\")\n",
    "g"
   ]
  },
  {
   "cell_type": "markdown",
   "id": "a5c9d316",
   "metadata": {},
   "source": [
    "## Pregunta 2: Estime el modelo usando la funcion IV2SLS de linearmodels"
   ]
  },
  {
   "cell_type": "code",
   "execution_count": null,
   "id": "56fff6f5",
   "metadata": {},
   "outputs": [],
   "source": [
    "# Respuesta:"
   ]
  },
  {
   "cell_type": "code",
   "execution_count": 84,
   "id": "3b5ed08c",
   "metadata": {},
   "outputs": [
    {
     "name": "stdout",
     "output_type": "stream",
     "text": [
      "                          IV-2SLS Estimation Summary                          \n",
      "==============================================================================\n",
      "Dep. Variable:            rendimiento   R-squared:                      0.9888\n",
      "Estimator:                    IV-2SLS   Adj. R-squared:                 0.9860\n",
      "No. Observations:                  10   F-statistic:                    1058.2\n",
      "Date:                Mon, May 15 2023   P-value (F-stat)                0.0000\n",
      "Time:                        02:12:35   Distribution:                  chi2(2)\n",
      "Cov. Estimator:                robust                                         \n",
      "                                                                              \n",
      "                             Parameter Estimates                              \n",
      "==============================================================================\n",
      "            Parameter  Std. Err.     T-stat    P-value    Lower CI    Upper CI\n",
      "------------------------------------------------------------------------------\n",
      "edad           1.7654     0.2876     6.1385     0.0000      1.2017      2.3291\n",
      "lecciones      21.452     12.416     1.7277     0.0840     -2.8840      45.788\n",
      "==============================================================================\n",
      "\n",
      "Endogenous: lecciones\n",
      "Instruments: distancia\n",
      "Robust Covariance (Heteroskedastic)\n",
      "Debiased: False\n"
     ]
    }
   ],
   "source": [
    "from linearmodels.iv import IV2SLS\n",
    "\n",
    "modelo = IV2SLS(dependent=df['rendimiento'], endog=df['lecciones'], exog=df['edad'], instruments=df['distancia'])\n",
    "resultados = modelo.fit()\n",
    "\n",
    "# Imprimima los resultados\n",
    "print(resultados)"
   ]
  },
  {
   "cell_type": "markdown",
   "id": "2114d350",
   "metadata": {},
   "source": [
    "## Pregunta 3: ¿Qué puede decir de los resultados obtenidos?"
   ]
  },
  {
   "cell_type": "code",
   "execution_count": null,
   "id": "b4fd9ec8",
   "metadata": {},
   "outputs": [],
   "source": [
    "# Respuesta:"
   ]
  }
 ],
 "metadata": {
  "hide_input": false,
  "kernelspec": {
   "display_name": "Python 3 (ipykernel)",
   "language": "python",
   "name": "python3"
  },
  "language_info": {
   "codemirror_mode": {
    "name": "ipython",
    "version": 3
   },
   "file_extension": ".py",
   "mimetype": "text/x-python",
   "name": "python",
   "nbconvert_exporter": "python",
   "pygments_lexer": "ipython3",
   "version": "3.10.11"
  },
  "nbTranslate": {
   "displayLangs": [
    "*"
   ],
   "hotkey": "alt-t",
   "langInMainMenu": true,
   "sourceLang": "en",
   "targetLang": "fr",
   "useGoogleTranslate": true
  },
  "toc": {
   "base_numbering": 1,
   "nav_menu": {},
   "number_sections": true,
   "sideBar": true,
   "skip_h1_title": false,
   "title_cell": "Table of Contents",
   "title_sidebar": "Contents",
   "toc_cell": true,
   "toc_position": {},
   "toc_section_display": true,
   "toc_window_display": false
  },
  "varInspector": {
   "cols": {
    "lenName": 16,
    "lenType": 16,
    "lenVar": 40
   },
   "kernels_config": {
    "python": {
     "delete_cmd_postfix": "",
     "delete_cmd_prefix": "del ",
     "library": "var_list.py",
     "varRefreshCmd": "print(var_dic_list())"
    },
    "r": {
     "delete_cmd_postfix": ") ",
     "delete_cmd_prefix": "rm(",
     "library": "var_list.r",
     "varRefreshCmd": "cat(var_dic_list()) "
    }
   },
   "types_to_exclude": [
    "module",
    "function",
    "builtin_function_or_method",
    "instance",
    "_Feature"
   ],
   "window_display": false
  }
 },
 "nbformat": 4,
 "nbformat_minor": 5
}
